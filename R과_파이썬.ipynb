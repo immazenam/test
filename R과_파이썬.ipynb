{
  "nbformat": 4,
  "nbformat_minor": 0,
  "metadata": {
    "colab": {
      "provenance": [],
      "toc_visible": true,
      "authorship_tag": "ABX9TyMMVnn5GbZCqYS4g09XUaJU",
      "include_colab_link": true
    },
    "kernelspec": {
      "name": "python3",
      "display_name": "Python 3"
    },
    "language_info": {
      "name": "python"
    }
  },
  "cells": [
    {
      "cell_type": "markdown",
      "metadata": {
        "id": "view-in-github",
        "colab_type": "text"
      },
      "source": [
        "<a href=\"https://colab.research.google.com/github/immazenam/test/blob/master/R%EA%B3%BC_%ED%8C%8C%EC%9D%B4%EC%8D%AC.ipynb\" target=\"_parent\"><img src=\"https://colab.research.google.com/assets/colab-badge.svg\" alt=\"Open In Colab\"/></a>"
      ]
    },
    {
      "cell_type": "code",
      "source": [
        "2+3/2"
      ],
      "metadata": {
        "colab": {
          "base_uri": "https://localhost:8080/"
        },
        "id": "Ux84KGJz8w1h",
        "outputId": "a489f707-970f-46c9-d66f-63ccc2841be2"
      },
      "execution_count": 1,
      "outputs": [
        {
          "output_type": "execute_result",
          "data": {
            "text/plain": [
              "3.5"
            ]
          },
          "metadata": {},
          "execution_count": 1
        }
      ]
    },
    {
      "cell_type": "code",
      "source": [
        "2**10"
      ],
      "metadata": {
        "colab": {
          "base_uri": "https://localhost:8080/"
        },
        "id": "uwAy5-Ej9I2E",
        "outputId": "2b95cbae-24a9-4274-fca5-e90c9f4b6332"
      },
      "execution_count": 2,
      "outputs": [
        {
          "output_type": "execute_result",
          "data": {
            "text/plain": [
              "1024"
            ]
          },
          "metadata": {},
          "execution_count": 2
        }
      ]
    },
    {
      "cell_type": "code",
      "source": [
        "a=10\n",
        "a"
      ],
      "metadata": {
        "colab": {
          "base_uri": "https://localhost:8080/"
        },
        "id": "gHgdeRhs9LFx",
        "outputId": "6e4fc013-b4cf-492c-ca7a-a00fb94aa1f2"
      },
      "execution_count": 3,
      "outputs": [
        {
          "output_type": "execute_result",
          "data": {
            "text/plain": [
              "10"
            ]
          },
          "metadata": {},
          "execution_count": 3
        }
      ]
    },
    {
      "cell_type": "code",
      "source": [
        "print(a)"
      ],
      "metadata": {
        "colab": {
          "base_uri": "https://localhost:8080/"
        },
        "id": "CESJ9PVN9PUZ",
        "outputId": "a75b922b-93a8-4c2c-dc67-6839a1da11ea"
      },
      "execution_count": 4,
      "outputs": [
        {
          "output_type": "stream",
          "name": "stdout",
          "text": [
            "10\n"
          ]
        }
      ]
    },
    {
      "cell_type": "code",
      "source": [
        "a*2+3"
      ],
      "metadata": {
        "colab": {
          "base_uri": "https://localhost:8080/"
        },
        "id": "wh79SC-r9Q7_",
        "outputId": "a7ef8167-486c-48fa-8004-7b847152cd1e"
      },
      "execution_count": 5,
      "outputs": [
        {
          "output_type": "execute_result",
          "data": {
            "text/plain": [
              "23"
            ]
          },
          "metadata": {},
          "execution_count": 5
        }
      ]
    },
    {
      "cell_type": "code",
      "source": [
        "a=100\n",
        "print(type(a))\n",
        "b=100.1\n",
        "print(type(b))"
      ],
      "metadata": {
        "colab": {
          "base_uri": "https://localhost:8080/"
        },
        "id": "e6boyoDV2UA1",
        "outputId": "73029575-8aeb-4976-ba9d-0a605b34f520"
      },
      "execution_count": 6,
      "outputs": [
        {
          "output_type": "stream",
          "name": "stdout",
          "text": [
            "<class 'int'>\n",
            "<class 'float'>\n"
          ]
        }
      ]
    },
    {
      "cell_type": "code",
      "source": [
        "bool(23.7)\n"
      ],
      "metadata": {
        "colab": {
          "base_uri": "https://localhost:8080/"
        },
        "id": "YMhsgEZc1zuE",
        "outputId": "577429ac-35f5-46b6-c2fb-015fa149f031"
      },
      "execution_count": 7,
      "outputs": [
        {
          "output_type": "execute_result",
          "data": {
            "text/plain": [
              "True"
            ]
          },
          "metadata": {},
          "execution_count": 7
        }
      ]
    },
    {
      "cell_type": "code",
      "source": [
        "bool(0)"
      ],
      "metadata": {
        "colab": {
          "base_uri": "https://localhost:8080/"
        },
        "id": "tUmmMC4A2nLQ",
        "outputId": "0fc054a2-c67b-4f96-caca-1d0a87d4aec8"
      },
      "execution_count": 8,
      "outputs": [
        {
          "output_type": "execute_result",
          "data": {
            "text/plain": [
              "False"
            ]
          },
          "metadata": {},
          "execution_count": 8
        }
      ]
    },
    {
      "cell_type": "code",
      "source": [
        "c = 'my string'\n",
        "d = str(a)+\" \"+c\n",
        "print(d)\n",
        "print(int(b))"
      ],
      "metadata": {
        "colab": {
          "base_uri": "https://localhost:8080/"
        },
        "id": "BrqMMs7W20SL",
        "outputId": "32c66361-5ae9-4394-a298-b9e9c90f7fb7"
      },
      "execution_count": 9,
      "outputs": [
        {
          "output_type": "stream",
          "name": "stdout",
          "text": [
            "100 my string\n",
            "100\n"
          ]
        }
      ]
    },
    {
      "cell_type": "code",
      "source": [
        "bool('')"
      ],
      "metadata": {
        "colab": {
          "base_uri": "https://localhost:8080/"
        },
        "id": "c9xnCb0y2yoa",
        "outputId": "b5cace4f-4309-4bbf-f6a6-1f86bbeabfe1"
      },
      "execution_count": 10,
      "outputs": [
        {
          "output_type": "execute_result",
          "data": {
            "text/plain": [
              "False"
            ]
          },
          "metadata": {},
          "execution_count": 10
        }
      ]
    },
    {
      "cell_type": "code",
      "source": [
        "import numpy as np\n",
        "a = np.arange(15)\n",
        "print(a)\n",
        "m = np.mean(a)\n",
        "print(m)"
      ],
      "metadata": {
        "colab": {
          "base_uri": "https://localhost:8080/"
        },
        "id": "mQexdi1328mh",
        "outputId": "1750e17c-71c9-416f-ff88-5df386a1462a"
      },
      "execution_count": 11,
      "outputs": [
        {
          "output_type": "stream",
          "name": "stdout",
          "text": [
            "[ 0  1  2  3  4  5  6  7  8  9 10 11 12 13 14]\n",
            "7.0\n"
          ]
        }
      ]
    },
    {
      "cell_type": "code",
      "source": [
        "height = np.array([45, 75, 60, 51, np.nan])\n",
        "print(np.mean(height))\n",
        "print(np.nanmean(height))"
      ],
      "metadata": {
        "colab": {
          "base_uri": "https://localhost:8080/"
        },
        "id": "4l7SLFac3jMg",
        "outputId": "b6035e7f-2054-4a19-9c1a-72bb807504cc"
      },
      "execution_count": 12,
      "outputs": [
        {
          "output_type": "stream",
          "name": "stdout",
          "text": [
            "nan\n",
            "57.75\n"
          ]
        }
      ]
    },
    {
      "cell_type": "code",
      "source": [
        "x = np.array([1, -1, 0, np.infty, -np.inf])\n",
        "print(x/0)\n",
        "print(x/np.Infinity)"
      ],
      "metadata": {
        "colab": {
          "base_uri": "https://localhost:8080/"
        },
        "id": "dPF0Heiz4h_v",
        "outputId": "e01c0680-edaf-45f9-8b4c-f5be22179a27"
      },
      "execution_count": 13,
      "outputs": [
        {
          "output_type": "stream",
          "name": "stdout",
          "text": [
            "[ inf -inf  nan  inf -inf]\n",
            "[ 0. -0.  0. nan nan]\n"
          ]
        },
        {
          "output_type": "stream",
          "name": "stderr",
          "text": [
            "<ipython-input-13-11678b3c65f9>:2: RuntimeWarning: divide by zero encountered in divide\n",
            "  print(x/0)\n",
            "<ipython-input-13-11678b3c65f9>:2: RuntimeWarning: invalid value encountered in divide\n",
            "  print(x/0)\n",
            "<ipython-input-13-11678b3c65f9>:3: RuntimeWarning: invalid value encountered in divide\n",
            "  print(x/np.Infinity)\n"
          ]
        }
      ]
    },
    {
      "cell_type": "code",
      "source": [
        "import datetime as dt\n",
        "now = dt.datetime.now()\n",
        "print(now.year)"
      ],
      "metadata": {
        "colab": {
          "base_uri": "https://localhost:8080/"
        },
        "id": "-OxyqssX42Ll",
        "outputId": "d935f642-4d44-4b55-8486-dadc64efca01"
      },
      "execution_count": 14,
      "outputs": [
        {
          "output_type": "stream",
          "name": "stdout",
          "text": [
            "2024\n"
          ]
        }
      ]
    },
    {
      "cell_type": "code",
      "source": [
        "print(now.strftime(\"%Y-%m-%d: %A\"))"
      ],
      "metadata": {
        "colab": {
          "base_uri": "https://localhost:8080/"
        },
        "id": "lWao6EFk8C7-",
        "outputId": "0874ad43-7ff6-44ec-f2ed-2cf8fd7fe3d9"
      },
      "execution_count": 15,
      "outputs": [
        {
          "output_type": "stream",
          "name": "stdout",
          "text": [
            "2024-09-29: Sunday\n"
          ]
        }
      ]
    },
    {
      "cell_type": "code",
      "source": [
        "dob1 = dt.datetime(2000, 5, 17)\n",
        "age = now.year - dob1.year\n",
        "print(age)"
      ],
      "metadata": {
        "colab": {
          "base_uri": "https://localhost:8080/"
        },
        "id": "R2ksh4g58QBu",
        "outputId": "01f7e260-aeaa-483a-9cf4-100f070d71a1"
      },
      "execution_count": 16,
      "outputs": [
        {
          "output_type": "stream",
          "name": "stdout",
          "text": [
            "24\n"
          ]
        }
      ]
    },
    {
      "cell_type": "code",
      "source": [
        "xv = np.array([1, 2, 3, 4, 5, 6, 7, 8, 9, 10])\n",
        "xv = np.arange(1,10)\n",
        "xv[4]"
      ],
      "metadata": {
        "id": "fi-dvh7R8g82",
        "colab": {
          "base_uri": "https://localhost:8080/"
        },
        "outputId": "f47fda3b-1f07-4d80-c2f2-e8de1f9293a6"
      },
      "execution_count": 17,
      "outputs": [
        {
          "output_type": "execute_result",
          "data": {
            "text/plain": [
              "5"
            ]
          },
          "metadata": {},
          "execution_count": 17
        }
      ]
    },
    {
      "cell_type": "code",
      "source": [
        "xv[1:4]"
      ],
      "metadata": {
        "colab": {
          "base_uri": "https://localhost:8080/"
        },
        "id": "ouoBsXfrpbQM",
        "outputId": "7ccbc2d3-293f-4a70-df7f-b5fac9dc26d8"
      },
      "execution_count": 18,
      "outputs": [
        {
          "output_type": "execute_result",
          "data": {
            "text/plain": [
              "array([2, 3, 4])"
            ]
          },
          "metadata": {},
          "execution_count": 18
        }
      ]
    },
    {
      "cell_type": "code",
      "source": [
        "len(xv)"
      ],
      "metadata": {
        "colab": {
          "base_uri": "https://localhost:8080/"
        },
        "id": "yvgg0I2npeD2",
        "outputId": "6ec0dd69-c34b-41a4-bad7-5585bcba2821"
      },
      "execution_count": 19,
      "outputs": [
        {
          "output_type": "execute_result",
          "data": {
            "text/plain": [
              "9"
            ]
          },
          "metadata": {},
          "execution_count": 19
        }
      ]
    },
    {
      "cell_type": "code",
      "source": [
        "xv.size"
      ],
      "metadata": {
        "colab": {
          "base_uri": "https://localhost:8080/"
        },
        "id": "KiKbsy6api0L",
        "outputId": "aa9441f7-374c-4816-fcf2-2118cc126cca"
      },
      "execution_count": 20,
      "outputs": [
        {
          "output_type": "execute_result",
          "data": {
            "text/plain": [
              "9"
            ]
          },
          "metadata": {},
          "execution_count": 20
        }
      ]
    },
    {
      "cell_type": "code",
      "source": [
        "xm=np.array([[1,2,3], [4,5,6], [7,8,9]])\n",
        "xm"
      ],
      "metadata": {
        "colab": {
          "base_uri": "https://localhost:8080/"
        },
        "id": "V-JI4GHsply3",
        "outputId": "77a2fbc6-3862-429e-8715-b42adc271854"
      },
      "execution_count": 21,
      "outputs": [
        {
          "output_type": "execute_result",
          "data": {
            "text/plain": [
              "array([[1, 2, 3],\n",
              "       [4, 5, 6],\n",
              "       [7, 8, 9]])"
            ]
          },
          "metadata": {},
          "execution_count": 21
        }
      ]
    },
    {
      "cell_type": "code",
      "source": [
        "xm = np.arange(1,10)\n",
        "xm = xm.reshape(3,3)\n",
        "xm"
      ],
      "metadata": {
        "colab": {
          "base_uri": "https://localhost:8080/"
        },
        "id": "BElEfeVWp6L2",
        "outputId": "c96cfa97-a768-49d6-9969-5f2bc08ae459"
      },
      "execution_count": 22,
      "outputs": [
        {
          "output_type": "execute_result",
          "data": {
            "text/plain": [
              "array([[1, 2, 3],\n",
              "       [4, 5, 6],\n",
              "       [7, 8, 9]])"
            ]
          },
          "metadata": {},
          "execution_count": 22
        }
      ]
    },
    {
      "cell_type": "code",
      "source": [
        "xm = np.array(range(1,10))\n",
        "xm = xm.reshape(3,3)\n",
        "xm.shape"
      ],
      "metadata": {
        "colab": {
          "base_uri": "https://localhost:8080/"
        },
        "id": "u7zEMhDzqIz_",
        "outputId": "90ec5cd7-9959-428a-bb9c-e2169a4f7930"
      },
      "execution_count": 23,
      "outputs": [
        {
          "output_type": "execute_result",
          "data": {
            "text/plain": [
              "(3, 3)"
            ]
          },
          "metadata": {},
          "execution_count": 23
        }
      ]
    },
    {
      "cell_type": "code",
      "source": [
        "xm[1,2]\n"
      ],
      "metadata": {
        "colab": {
          "base_uri": "https://localhost:8080/"
        },
        "id": "L-sNFcLPqiYQ",
        "outputId": "48807e3c-57b8-4285-bbfa-2898d6dea651"
      },
      "execution_count": 24,
      "outputs": [
        {
          "output_type": "execute_result",
          "data": {
            "text/plain": [
              "6"
            ]
          },
          "metadata": {},
          "execution_count": 24
        }
      ]
    },
    {
      "cell_type": "code",
      "source": [
        "xm[:, 0]"
      ],
      "metadata": {
        "colab": {
          "base_uri": "https://localhost:8080/"
        },
        "id": "nEGHjSVuqmYv",
        "outputId": "570df5af-f953-414b-8579-d5053799de2b"
      },
      "execution_count": 25,
      "outputs": [
        {
          "output_type": "execute_result",
          "data": {
            "text/plain": [
              "array([1, 4, 7])"
            ]
          },
          "metadata": {},
          "execution_count": 25
        }
      ]
    },
    {
      "cell_type": "code",
      "source": [
        "xm[0:2, :]"
      ],
      "metadata": {
        "colab": {
          "base_uri": "https://localhost:8080/"
        },
        "id": "Xd2p8GdkqtzW",
        "outputId": "57ba3080-8558-4d69-e3c5-5bc55bd581c0"
      },
      "execution_count": 26,
      "outputs": [
        {
          "output_type": "execute_result",
          "data": {
            "text/plain": [
              "array([[1, 2, 3],\n",
              "       [4, 5, 6]])"
            ]
          },
          "metadata": {},
          "execution_count": 26
        }
      ]
    },
    {
      "cell_type": "code",
      "source": [
        "xv[3] = 11\n",
        "xv"
      ],
      "metadata": {
        "colab": {
          "base_uri": "https://localhost:8080/"
        },
        "id": "Ya4viuD5rFfx",
        "outputId": "99408301-0d52-4c0b-c18c-a3e617f82b74"
      },
      "execution_count": 27,
      "outputs": [
        {
          "output_type": "execute_result",
          "data": {
            "text/plain": [
              "array([ 1,  2,  3, 11,  5,  6,  7,  8,  9])"
            ]
          },
          "metadata": {},
          "execution_count": 27
        }
      ]
    },
    {
      "cell_type": "code",
      "source": [
        "xm[0,2] = 11\n",
        "xm"
      ],
      "metadata": {
        "colab": {
          "base_uri": "https://localhost:8080/"
        },
        "id": "m1Jx1ptArM8b",
        "outputId": "7400d3b6-4616-4900-8c58-b8ae1a7de6bd"
      },
      "execution_count": 28,
      "outputs": [
        {
          "output_type": "execute_result",
          "data": {
            "text/plain": [
              "array([[ 1,  2, 11],\n",
              "       [ 4,  5,  6],\n",
              "       [ 7,  8,  9]])"
            ]
          },
          "metadata": {},
          "execution_count": 28
        }
      ]
    },
    {
      "cell_type": "code",
      "source": [
        "a = [2,3,'c']\n",
        "x= [1,2,'a', a]\n",
        "print(x)"
      ],
      "metadata": {
        "colab": {
          "base_uri": "https://localhost:8080/"
        },
        "id": "VgirAzvuu4KC",
        "outputId": "61da2de2-dc3f-458e-bf65-74fb10e53fa1"
      },
      "execution_count": 29,
      "outputs": [
        {
          "output_type": "stream",
          "name": "stdout",
          "text": [
            "[1, 2, 'a', [2, 3, 'c']]\n"
          ]
        }
      ]
    },
    {
      "cell_type": "code",
      "source": [
        "x[3]"
      ],
      "metadata": {
        "id": "D8-9Lvj3vAAk",
        "colab": {
          "base_uri": "https://localhost:8080/"
        },
        "outputId": "48509b55-081c-4c3d-d84b-b3608b09538c"
      },
      "execution_count": 30,
      "outputs": [
        {
          "output_type": "execute_result",
          "data": {
            "text/plain": [
              "[2, 3, 'c']"
            ]
          },
          "metadata": {},
          "execution_count": 30
        }
      ]
    },
    {
      "cell_type": "code",
      "source": [
        "x2 = [[1,2,3], [4,5,6], [7,8,9]]\n",
        "x2[0][2]"
      ],
      "metadata": {
        "colab": {
          "base_uri": "https://localhost:8080/"
        },
        "id": "YV8eTbJUvZrV",
        "outputId": "0b192400-01d0-4881-f612-e785c4a32d40"
      },
      "execution_count": 31,
      "outputs": [
        {
          "output_type": "execute_result",
          "data": {
            "text/plain": [
              "3"
            ]
          },
          "metadata": {},
          "execution_count": 31
        }
      ]
    },
    {
      "cell_type": "code",
      "source": [
        "x2[2]"
      ],
      "metadata": {
        "colab": {
          "base_uri": "https://localhost:8080/"
        },
        "id": "6hnpJ7pKvlOY",
        "outputId": "c6fade9b-6991-4f49-af96-4e05694d59f0"
      },
      "execution_count": 32,
      "outputs": [
        {
          "output_type": "execute_result",
          "data": {
            "text/plain": [
              "[7, 8, 9]"
            ]
          },
          "metadata": {},
          "execution_count": 32
        }
      ]
    },
    {
      "cell_type": "code",
      "source": [
        "[row[2] for row in x2]"
      ],
      "metadata": {
        "colab": {
          "base_uri": "https://localhost:8080/"
        },
        "id": "xZTLytgfvovA",
        "outputId": "209808dc-a672-4121-f48f-824bebe5a220"
      },
      "execution_count": 33,
      "outputs": [
        {
          "output_type": "execute_result",
          "data": {
            "text/plain": [
              "[3, 6, 9]"
            ]
          },
          "metadata": {},
          "execution_count": 33
        }
      ]
    },
    {
      "cell_type": "code",
      "source": [
        "tpl = (1,2,3)\n",
        "type(tpl)"
      ],
      "metadata": {
        "colab": {
          "base_uri": "https://localhost:8080/"
        },
        "id": "9m1vlIU8v5IU",
        "outputId": "9c2efcb2-1a65-4f84-d9b0-f3a7403cc5ca"
      },
      "execution_count": 34,
      "outputs": [
        {
          "output_type": "execute_result",
          "data": {
            "text/plain": [
              "tuple"
            ]
          },
          "metadata": {},
          "execution_count": 34
        }
      ]
    },
    {
      "cell_type": "code",
      "source": [
        "tpl[2]"
      ],
      "metadata": {
        "colab": {
          "base_uri": "https://localhost:8080/"
        },
        "id": "gkUTHTjGwGIB",
        "outputId": "bb213268-2733-4f89-dda6-54dbee4f7b39"
      },
      "execution_count": 35,
      "outputs": [
        {
          "output_type": "execute_result",
          "data": {
            "text/plain": [
              "3"
            ]
          },
          "metadata": {},
          "execution_count": 35
        }
      ]
    },
    {
      "cell_type": "code",
      "source": [
        "country_code = {'korea':82, 'us':1, 'china':86}\n",
        "print(len(country_code))"
      ],
      "metadata": {
        "colab": {
          "base_uri": "https://localhost:8080/"
        },
        "id": "EUyUESX5wLXk",
        "outputId": "ff41bd5a-67bb-49b6-95d4-d824c1f242c9"
      },
      "execution_count": 36,
      "outputs": [
        {
          "output_type": "stream",
          "name": "stdout",
          "text": [
            "3\n"
          ]
        }
      ]
    },
    {
      "cell_type": "code",
      "source": [
        "print(country_code['korea'])"
      ],
      "metadata": {
        "colab": {
          "base_uri": "https://localhost:8080/"
        },
        "id": "F2fsaWGSwmaK",
        "outputId": "1e33ed84-32b3-42cb-d37f-15a7914c0d4a"
      },
      "execution_count": 37,
      "outputs": [
        {
          "output_type": "stream",
          "name": "stdout",
          "text": [
            "82\n"
          ]
        }
      ]
    },
    {
      "cell_type": "code",
      "source": [
        "print(country_code.keys())"
      ],
      "metadata": {
        "colab": {
          "base_uri": "https://localhost:8080/"
        },
        "id": "qVrtcq-iws5m",
        "outputId": "6a9289d6-a288-4369-fcf5-c47c888d4491"
      },
      "execution_count": 38,
      "outputs": [
        {
          "output_type": "stream",
          "name": "stdout",
          "text": [
            "dict_keys(['korea', 'us', 'china'])\n"
          ]
        }
      ]
    },
    {
      "cell_type": "code",
      "source": [
        "print(country_code.values())"
      ],
      "metadata": {
        "colab": {
          "base_uri": "https://localhost:8080/"
        },
        "id": "mMFSqxFnwyKw",
        "outputId": "3268a0dd-5a54-4062-dbb7-e0709e55e5c0"
      },
      "execution_count": 39,
      "outputs": [
        {
          "output_type": "stream",
          "name": "stdout",
          "text": [
            "dict_values([82, 1, 86])\n"
          ]
        }
      ]
    },
    {
      "cell_type": "code",
      "source": [
        "print(country_code.items())"
      ],
      "metadata": {
        "colab": {
          "base_uri": "https://localhost:8080/"
        },
        "id": "t2BwQUZ8w5jN",
        "outputId": "6ea89070-939d-4166-f059-0126a4037c2b"
      },
      "execution_count": 40,
      "outputs": [
        {
          "output_type": "stream",
          "name": "stdout",
          "text": [
            "dict_items([('korea', 82), ('us', 1), ('china', 86)])\n"
          ]
        }
      ]
    },
    {
      "cell_type": "code",
      "source": [
        "xm2 = xm\n",
        "xm2 = xm.copy()\n",
        "xm[0][0] = 10"
      ],
      "metadata": {
        "id": "LUAIbWjCw_Ho"
      },
      "execution_count": 41,
      "outputs": []
    },
    {
      "cell_type": "code",
      "source": [
        "from copy import deepcopy\n",
        "ym= [[1,2,3], [4,5,6], [7,8,9]]\n",
        "ym2 = deepcopy(ym)\n",
        "ym[0][0] = 10\n",
        "print(ym2)"
      ],
      "metadata": {
        "colab": {
          "base_uri": "https://localhost:8080/"
        },
        "id": "aq-BrgbBxYdg",
        "outputId": "8b642829-a26b-45d0-9203-336ba3003411"
      },
      "execution_count": 42,
      "outputs": [
        {
          "output_type": "stream",
          "name": "stdout",
          "text": [
            "[[1, 2, 3], [4, 5, 6], [7, 8, 9]]\n"
          ]
        }
      ]
    },
    {
      "cell_type": "code",
      "source": [
        "import pandas as pd\n",
        "import numpy as np\n",
        "d={'name':['Kim', 'Lee', 'Park'], 'height': [170, 180, 175]}\n",
        "df1 = pd. DataFrame(data=d)\n",
        "print(df1)"
      ],
      "metadata": {
        "colab": {
          "base_uri": "https://localhost:8080/"
        },
        "id": "m0grllOCdG7R",
        "outputId": "abdddde6-ca30-4a3a-c09b-2cd3775b867b"
      },
      "execution_count": 51,
      "outputs": [
        {
          "output_type": "stream",
          "name": "stdout",
          "text": [
            "   name  height\n",
            "0   Kim     170\n",
            "1   Lee     180\n",
            "2  Park     175\n"
          ]
        }
      ]
    },
    {
      "cell_type": "code",
      "source": [
        "df2 = pd.DataFrame([['Kim', 170], ['Lee', 180], ['Pakr', 175]], columns=['name', 'height'])\n",
        "print(df2)"
      ],
      "metadata": {
        "colab": {
          "base_uri": "https://localhost:8080/"
        },
        "id": "s7uGQ_bTePg3",
        "outputId": "3a5a2d65-ace2-4ec8-9d1a-22df32220448"
      },
      "execution_count": 52,
      "outputs": [
        {
          "output_type": "stream",
          "name": "stdout",
          "text": [
            "   name  height\n",
            "0   Kim     170\n",
            "1   Lee     180\n",
            "2  Pakr     175\n"
          ]
        }
      ]
    },
    {
      "cell_type": "code",
      "source": [
        "df3 = pd.DataFrame(np.array([[1,2,3], [4,5,6], [7,8,9]]),\n",
        "                   columns=['a', 'b', 'c'])\n",
        "print(df3)"
      ],
      "metadata": {
        "colab": {
          "base_uri": "https://localhost:8080/"
        },
        "id": "p9Cyw99Bek9m",
        "outputId": "5f9ab89e-7578-4eee-d5de-4f6636b7245a"
      },
      "execution_count": 56,
      "outputs": [
        {
          "output_type": "stream",
          "name": "stdout",
          "text": [
            "   a  b  c\n",
            "0  1  2  3\n",
            "1  4  5  6\n",
            "2  7  8  9\n"
          ]
        }
      ]
    },
    {
      "cell_type": "code",
      "source": [
        "print(df3.describe())"
      ],
      "metadata": {
        "colab": {
          "base_uri": "https://localhost:8080/"
        },
        "id": "8p3pmiJIfHxY",
        "outputId": "fb8338d9-5000-4a47-971e-53775f9cd727"
      },
      "execution_count": 57,
      "outputs": [
        {
          "output_type": "stream",
          "name": "stdout",
          "text": [
            "         a    b    c\n",
            "count  3.0  3.0  3.0\n",
            "mean   4.0  5.0  6.0\n",
            "std    3.0  3.0  3.0\n",
            "min    1.0  2.0  3.0\n",
            "25%    2.5  3.5  4.5\n",
            "50%    4.0  5.0  6.0\n",
            "75%    5.5  6.5  7.5\n",
            "max    7.0  8.0  9.0\n"
          ]
        }
      ]
    },
    {
      "cell_type": "code",
      "source": [
        "x = df1['height']\n",
        "print(x)"
      ],
      "metadata": {
        "colab": {
          "base_uri": "https://localhost:8080/"
        },
        "id": "5afeZwc1fG20",
        "outputId": "cbde6e0f-2b27-4c8a-9e09-3a983050ce56"
      },
      "execution_count": 58,
      "outputs": [
        {
          "output_type": "stream",
          "name": "stdout",
          "text": [
            "0    170\n",
            "1    180\n",
            "2    175\n",
            "Name: height, dtype: int64\n"
          ]
        }
      ]
    },
    {
      "cell_type": "code",
      "source": [
        "y = df1.iloc[0:2]\n",
        "print(y)"
      ],
      "metadata": {
        "colab": {
          "base_uri": "https://localhost:8080/"
        },
        "id": "vvDzLS_xf8In",
        "outputId": "e2769e13-a537-4a5f-b3ce-d4374ff036f8"
      },
      "execution_count": 60,
      "outputs": [
        {
          "output_type": "stream",
          "name": "stdout",
          "text": [
            "  name  height\n",
            "0  Kim     170\n",
            "1  Lee     180\n"
          ]
        }
      ]
    },
    {
      "cell_type": "code",
      "source": [
        "y = df1.iloc[:, 1]\n",
        "print(y)"
      ],
      "metadata": {
        "colab": {
          "base_uri": "https://localhost:8080/"
        },
        "id": "TKVHGuiAgQKT",
        "outputId": "e67b2efb-501e-4f6a-f994-b2c187c2af62"
      },
      "execution_count": 61,
      "outputs": [
        {
          "output_type": "stream",
          "name": "stdout",
          "text": [
            "0    170\n",
            "1    180\n",
            "2    175\n",
            "Name: height, dtype: int64\n"
          ]
        }
      ]
    },
    {
      "cell_type": "code",
      "source": [
        "y = df1.iloc[:, -1]\n",
        "print(y)"
      ],
      "metadata": {
        "colab": {
          "base_uri": "https://localhost:8080/"
        },
        "id": "4X770Td9gbrM",
        "outputId": "9cfa8fe8-6b08-43ee-d5fc-6b8c176d6de4"
      },
      "execution_count": 62,
      "outputs": [
        {
          "output_type": "stream",
          "name": "stdout",
          "text": [
            "0    170\n",
            "1    180\n",
            "2    175\n",
            "Name: height, dtype: int64\n"
          ]
        }
      ]
    },
    {
      "cell_type": "code",
      "source": [
        "y = df1.iloc[[1,2], 0]\n",
        "print(y)"
      ],
      "metadata": {
        "colab": {
          "base_uri": "https://localhost:8080/"
        },
        "id": "3CvAuKKmgnTR",
        "outputId": "c80ce95f-3e96-40c4-e334-f2b67bb7a667"
      },
      "execution_count": 63,
      "outputs": [
        {
          "output_type": "stream",
          "name": "stdout",
          "text": [
            "1     Lee\n",
            "2    Park\n",
            "Name: name, dtype: object\n"
          ]
        }
      ]
    },
    {
      "cell_type": "code",
      "source": [
        "x1 = [1,2,3,4]; x2 = [5,6,7,8]\n",
        "y1 = np.array([1,2,3,4]); y2 = np.array([5,6,7,8])\n",
        "print(x1+[2])"
      ],
      "metadata": {
        "colab": {
          "base_uri": "https://localhost:8080/"
        },
        "id": "NUFU_d69gvCO",
        "outputId": "6b2823c5-ae4f-446e-8721-a63e672d597c"
      },
      "execution_count": 66,
      "outputs": [
        {
          "output_type": "stream",
          "name": "stdout",
          "text": [
            "[1, 2, 3, 4, 2]\n"
          ]
        }
      ]
    },
    {
      "cell_type": "code",
      "source": [
        "print(y1+2)"
      ],
      "metadata": {
        "colab": {
          "base_uri": "https://localhost:8080/"
        },
        "id": "LqH6Q5jkkOWU",
        "outputId": "881631ee-8ece-428b-bb2d-6bb214841a6e"
      },
      "execution_count": 67,
      "outputs": [
        {
          "output_type": "stream",
          "name": "stdout",
          "text": [
            "[3 4 5 6]\n"
          ]
        }
      ]
    },
    {
      "cell_type": "code",
      "source": [
        "print(x1+x2)"
      ],
      "metadata": {
        "colab": {
          "base_uri": "https://localhost:8080/"
        },
        "id": "tH_fXrC0kQ-S",
        "outputId": "fbf2e0ac-c2d3-4376-84fd-e9b04a70fbc8"
      },
      "execution_count": 68,
      "outputs": [
        {
          "output_type": "stream",
          "name": "stdout",
          "text": [
            "[1, 2, 3, 4, 5, 6, 7, 8]\n"
          ]
        }
      ]
    },
    {
      "cell_type": "code",
      "source": [
        "print(y1+y2)"
      ],
      "metadata": {
        "colab": {
          "base_uri": "https://localhost:8080/"
        },
        "id": "XOkljOSSkX-m",
        "outputId": "148913bf-df58-46d7-9463-453a2d708c6a"
      },
      "execution_count": 69,
      "outputs": [
        {
          "output_type": "stream",
          "name": "stdout",
          "text": [
            "[ 6  8 10 12]\n"
          ]
        }
      ]
    },
    {
      "cell_type": "code",
      "source": [
        "xrow = np.array([1,2,3])\n",
        "xcol = np.array([[1], [2], [3]])\n",
        "print(\"dimensions: \", xrow.shape, xcol.shape)"
      ],
      "metadata": {
        "colab": {
          "base_uri": "https://localhost:8080/"
        },
        "id": "30lSszC8kbB6",
        "outputId": "11fb4d35-9072-4b33-d0b7-87be6b595b05"
      },
      "execution_count": 70,
      "outputs": [
        {
          "output_type": "stream",
          "name": "stdout",
          "text": [
            "dimensions:  (3,) (3, 1)\n"
          ]
        }
      ]
    },
    {
      "cell_type": "code",
      "source": [
        "print(\"xrow \\n\", xrow, \"\\n xcol: \\n\", xcol)"
      ],
      "metadata": {
        "colab": {
          "base_uri": "https://localhost:8080/"
        },
        "id": "MUlRpfaykyE5",
        "outputId": "19c37950-025f-478d-daf5-c8a6e5a67376"
      },
      "execution_count": 71,
      "outputs": [
        {
          "output_type": "stream",
          "name": "stdout",
          "text": [
            "xrow \n",
            " [1 2 3] \n",
            " xcol: \n",
            " [[1]\n",
            " [2]\n",
            " [3]]\n"
          ]
        }
      ]
    },
    {
      "cell_type": "code",
      "source": [
        "aa = np.array(range(1, 11))\n",
        "bb = np.array(range(1, 6))\n",
        "cc = np.array([1,2,1,2,1])"
      ],
      "metadata": {
        "id": "LB8Ql52TmpET"
      },
      "execution_count": 72,
      "outputs": []
    },
    {
      "cell_type": "code",
      "source": [
        "bb +cc"
      ],
      "metadata": {
        "colab": {
          "base_uri": "https://localhost:8080/"
        },
        "id": "QbV-14DFm6Dx",
        "outputId": "ccebf626-2d7b-4342-8e0e-892cf576fe61"
      },
      "execution_count": 75,
      "outputs": [
        {
          "output_type": "execute_result",
          "data": {
            "text/plain": [
              "array([2, 4, 4, 6, 6])"
            ]
          },
          "metadata": {},
          "execution_count": 75
        }
      ]
    },
    {
      "cell_type": "code",
      "source": [
        "aa *3"
      ],
      "metadata": {
        "colab": {
          "base_uri": "https://localhost:8080/"
        },
        "id": "6N5tt6pOnFnY",
        "outputId": "406d1929-fe0a-4431-976c-8549743c8109"
      },
      "execution_count": 78,
      "outputs": [
        {
          "output_type": "execute_result",
          "data": {
            "text/plain": [
              "array([ 1,  4,  9, 16, 25])"
            ]
          },
          "metadata": {},
          "execution_count": 78
        }
      ]
    },
    {
      "cell_type": "code",
      "source": [
        "bb ** 2"
      ],
      "metadata": {
        "colab": {
          "base_uri": "https://localhost:8080/"
        },
        "id": "7b9GZ7C3nSXV",
        "outputId": "c9e6a06e-3ad5-4d55-942c-0202d0087c9b"
      },
      "execution_count": 79,
      "outputs": [
        {
          "output_type": "execute_result",
          "data": {
            "text/plain": [
              "array([ 1,  4,  9, 16, 25])"
            ]
          },
          "metadata": {},
          "execution_count": 79
        }
      ]
    },
    {
      "cell_type": "code",
      "source": [
        "np.power(bb, 2)"
      ],
      "metadata": {
        "colab": {
          "base_uri": "https://localhost:8080/"
        },
        "id": "McUBIQFnnW1Q",
        "outputId": "50303e2b-987c-4440-f2c3-5487fbfd82b7"
      },
      "execution_count": 80,
      "outputs": [
        {
          "output_type": "execute_result",
          "data": {
            "text/plain": [
              "array([ 1,  4,  9, 16, 25])"
            ]
          },
          "metadata": {},
          "execution_count": 80
        }
      ]
    },
    {
      "cell_type": "code",
      "source": [
        "a = np.array(range(1,11,2))\n",
        "print(a)"
      ],
      "metadata": {
        "colab": {
          "base_uri": "https://localhost:8080/"
        },
        "id": "z03sG3UnnaKy",
        "outputId": "f3627b35-ba76-453b-8c03-f4c322008cc2"
      },
      "execution_count": 81,
      "outputs": [
        {
          "output_type": "stream",
          "name": "stdout",
          "text": [
            "[1 3 5 7 9]\n"
          ]
        }
      ]
    },
    {
      "cell_type": "code",
      "source": [
        "a1 = np.delete(a, 2)\n",
        "print(a1)"
      ],
      "metadata": {
        "colab": {
          "base_uri": "https://localhost:8080/"
        },
        "id": "f6Lh-RLznvL1",
        "outputId": "aed34755-2d26-4fe1-f6ff-e94396552125"
      },
      "execution_count": 82,
      "outputs": [
        {
          "output_type": "stream",
          "name": "stdout",
          "text": [
            "[1 3 7 9]\n"
          ]
        }
      ]
    },
    {
      "cell_type": "code",
      "source": [
        "idx = [0, 1, 3]\n",
        "a2 = np.delete(a, idx)\n",
        "print(a2)"
      ],
      "metadata": {
        "colab": {
          "base_uri": "https://localhost:8080/"
        },
        "id": "ujop34vNn0tB",
        "outputId": "e0959ac9-edc2-48aa-c7fa-59b9c3e91f4e"
      },
      "execution_count": 83,
      "outputs": [
        {
          "output_type": "stream",
          "name": "stdout",
          "text": [
            "[5 9]\n"
          ]
        }
      ]
    },
    {
      "cell_type": "code",
      "source": [
        "b1 = 11\n",
        "a3 = np.append(a, b1)\n",
        "b2 = 2\n",
        "a4 = np.insert(a, 1, b2)\n",
        "print(a3)\n",
        "print(a4)\n",
        "b3= [1,2,3]\n",
        "a5 = np.insert(a, 2, b3)\n",
        "print(a5)"
      ],
      "metadata": {
        "colab": {
          "base_uri": "https://localhost:8080/"
        },
        "id": "5wUqHUIJoCpB",
        "outputId": "121a4d21-bd17-4cf1-bf21-863cffe8d2f8"
      },
      "execution_count": 86,
      "outputs": [
        {
          "output_type": "stream",
          "name": "stdout",
          "text": [
            "[ 1  3  5  7  9 11]\n",
            "[1 2 3 5 7 9]\n",
            "[1 3 1 2 3 5 7 9]\n"
          ]
        }
      ]
    },
    {
      "cell_type": "code",
      "source": [
        "mx1 = np.array(range(1,10)).reshape(3,3)\n",
        "mx2 = np.append(mx1, np.array([10, 20, 30]).reshape(1,3), axis=0)\n",
        "mx3 = np.append(mx1, np.array([10, 20, 30]).reshape(3,1), axis=1)\n",
        "print(mx1)\n",
        "print(mx2)\n",
        "print(mx3)"
      ],
      "metadata": {
        "colab": {
          "base_uri": "https://localhost:8080/"
        },
        "id": "fZdbY2fJoJUj",
        "outputId": "754d0c49-929b-4f9c-da87-402b2261ebbc"
      },
      "execution_count": 91,
      "outputs": [
        {
          "output_type": "stream",
          "name": "stdout",
          "text": [
            "[[1 2 3]\n",
            " [4 5 6]\n",
            " [7 8 9]]\n",
            "[[ 1  2  3]\n",
            " [ 4  5  6]\n",
            " [ 7  8  9]\n",
            " [10 20 30]]\n",
            "[[ 1  2  3 10]\n",
            " [ 4  5  6 20]\n",
            " [ 7  8  9 30]]\n"
          ]
        }
      ]
    },
    {
      "cell_type": "code",
      "source": [
        "mx4 = np.delete(mx1, 0, axis=0)\n",
        "mx5 = np.delete(mx1, [0,1], axis=1)\n",
        "print(mx4)\n",
        "print(mx5)"
      ],
      "metadata": {
        "colab": {
          "base_uri": "https://localhost:8080/"
        },
        "id": "NfVahozFpgTJ",
        "outputId": "74142d42-5209-452b-d66c-834ac63226f1"
      },
      "execution_count": 93,
      "outputs": [
        {
          "output_type": "stream",
          "name": "stdout",
          "text": [
            "[[4 5 6]\n",
            " [7 8 9]]\n",
            "[[3]\n",
            " [6]\n",
            " [9]]\n"
          ]
        }
      ]
    },
    {
      "cell_type": "code",
      "source": [
        "mx6 = np.insert(mx1, 1, np.array([10, 20, 30]), axis=0)\n",
        "mx7 = np.insert(mx1, 1, np.array(range(10, 100, 10)).reshape(3,3), axis=1)\n",
        "print(mx6)\n",
        "print(mx7)"
      ],
      "metadata": {
        "colab": {
          "base_uri": "https://localhost:8080/"
        },
        "id": "dJzyPQBcpsBa",
        "outputId": "53fc9f95-c706-44c3-cba8-9ad4ae79b83a"
      },
      "execution_count": 96,
      "outputs": [
        {
          "output_type": "stream",
          "name": "stdout",
          "text": [
            "[[ 1  2  3]\n",
            " [10 20 30]\n",
            " [ 4  5  6]\n",
            " [ 7  8  9]]\n",
            "[[ 1 10 40 70  2  3]\n",
            " [ 4 20 50 80  5  6]\n",
            " [ 7 30 60 90  8  9]]\n"
          ]
        }
      ]
    },
    {
      "cell_type": "code",
      "source": [
        "mtx = np.array([[1,2,3], [4,5,6]])\n",
        "mtx"
      ],
      "metadata": {
        "colab": {
          "base_uri": "https://localhost:8080/"
        },
        "id": "_ydproD5qC0f",
        "outputId": "30756772-7545-47a6-8f61-dd6dd9418014"
      },
      "execution_count": 99,
      "outputs": [
        {
          "output_type": "execute_result",
          "data": {
            "text/plain": [
              "array([[1, 2, 3],\n",
              "       [4, 5, 6]])"
            ]
          },
          "metadata": {},
          "execution_count": 99
        }
      ]
    },
    {
      "cell_type": "code",
      "source": [
        "mtx = np.array([1,2,3,4,5,6]).reshape(2,3)\n",
        "mtx"
      ],
      "metadata": {
        "colab": {
          "base_uri": "https://localhost:8080/"
        },
        "id": "jJeaKXS6qSro",
        "outputId": "883f5d1b-067c-44ef-9b64-8ff1780975ec"
      },
      "execution_count": 98,
      "outputs": [
        {
          "output_type": "execute_result",
          "data": {
            "text/plain": [
              "array([[1, 2, 3],\n",
              "       [4, 5, 6]])"
            ]
          },
          "metadata": {},
          "execution_count": 98
        }
      ]
    },
    {
      "cell_type": "code",
      "source": [
        "mx1 = np.array(range(1,7)).reshape(2,3)\n",
        "mx2 = np.hstack((np.repeat(1,3).reshape(3,1), np.repeat(2,3).reshape(3,1)))\n",
        "print(mx1)\n",
        "print(mx2)\n",
        "mx3 = np.matmul(mx1, mx2)\n",
        "print(mx3)\n",
        "mx3.shape"
      ],
      "metadata": {
        "colab": {
          "base_uri": "https://localhost:8080/"
        },
        "id": "UeSFjv3oqWSp",
        "outputId": "8fce1100-b933-403d-95c3-04af3157ee9d"
      },
      "execution_count": 103,
      "outputs": [
        {
          "output_type": "stream",
          "name": "stdout",
          "text": [
            "[[1 2 3]\n",
            " [4 5 6]]\n",
            "[[1 2]\n",
            " [1 2]\n",
            " [1 2]]\n",
            "[[ 6 12]\n",
            " [15 30]]\n"
          ]
        },
        {
          "output_type": "execute_result",
          "data": {
            "text/plain": [
              "(2, 2)"
            ]
          },
          "metadata": {},
          "execution_count": 103
        }
      ]
    }
  ]
}
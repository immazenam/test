{
  "nbformat": 4,
  "nbformat_minor": 0,
  "metadata": {
    "colab": {
      "provenance": [],
      "toc_visible": true,
      "authorship_tag": "ABX9TyMToqXx4nd3Hlv6ORkDGFuo",
      "include_colab_link": true
    },
    "kernelspec": {
      "name": "python3",
      "display_name": "Python 3"
    },
    "language_info": {
      "name": "python"
    }
  },
  "cells": [
    {
      "cell_type": "markdown",
      "metadata": {
        "id": "view-in-github",
        "colab_type": "text"
      },
      "source": [
        "<a href=\"https://colab.research.google.com/github/immazenam/test/blob/master/R%EA%B3%BC_%ED%8C%8C%EC%9D%B4%EC%8D%AC.ipynb\" target=\"_parent\"><img src=\"https://colab.research.google.com/assets/colab-badge.svg\" alt=\"Open In Colab\"/></a>"
      ]
    },
    {
      "cell_type": "markdown",
      "source": [
        "# 2 장"
      ],
      "metadata": {
        "id": "83qDtd2epp-b"
      }
    },
    {
      "cell_type": "code",
      "source": [
        "2+3/2"
      ],
      "metadata": {
        "colab": {
          "base_uri": "https://localhost:8080/"
        },
        "id": "Ux84KGJz8w1h",
        "outputId": "d86a9148-432d-4496-a51f-f85e5ab4d6f5"
      },
      "execution_count": 4,
      "outputs": [
        {
          "output_type": "execute_result",
          "data": {
            "text/plain": [
              "3.5"
            ]
          },
          "metadata": {},
          "execution_count": 4
        }
      ]
    },
    {
      "cell_type": "code",
      "source": [
        "2**10"
      ],
      "metadata": {
        "colab": {
          "base_uri": "https://localhost:8080/"
        },
        "id": "uwAy5-Ej9I2E",
        "outputId": "f5ede3b9-978e-4487-8ba7-b22b85a276a9"
      },
      "execution_count": 5,
      "outputs": [
        {
          "output_type": "execute_result",
          "data": {
            "text/plain": [
              "1024"
            ]
          },
          "metadata": {},
          "execution_count": 5
        }
      ]
    },
    {
      "cell_type": "code",
      "source": [
        "a=10\n",
        "a"
      ],
      "metadata": {
        "colab": {
          "base_uri": "https://localhost:8080/"
        },
        "id": "gHgdeRhs9LFx",
        "outputId": "7ead64b8-607c-4f0e-a698-fea1f839977f"
      },
      "execution_count": 6,
      "outputs": [
        {
          "output_type": "execute_result",
          "data": {
            "text/plain": [
              "10"
            ]
          },
          "metadata": {},
          "execution_count": 6
        }
      ]
    },
    {
      "cell_type": "code",
      "source": [
        "print(a)"
      ],
      "metadata": {
        "colab": {
          "base_uri": "https://localhost:8080/"
        },
        "id": "CESJ9PVN9PUZ",
        "outputId": "6528bbbb-d5c3-4433-aede-5d9ab4b0cc77"
      },
      "execution_count": 7,
      "outputs": [
        {
          "output_type": "stream",
          "name": "stdout",
          "text": [
            "10\n"
          ]
        }
      ]
    },
    {
      "cell_type": "code",
      "source": [
        "a*2+3"
      ],
      "metadata": {
        "colab": {
          "base_uri": "https://localhost:8080/"
        },
        "id": "wh79SC-r9Q7_",
        "outputId": "9fb5cbd8-6b40-4128-e691-fd35bb93d137"
      },
      "execution_count": 8,
      "outputs": [
        {
          "output_type": "execute_result",
          "data": {
            "text/plain": [
              "23"
            ]
          },
          "metadata": {},
          "execution_count": 8
        }
      ]
    },
    {
      "cell_type": "code",
      "source": [
        "a=100\n",
        "print(type(a))\n",
        "b=100.1\n",
        "print(type(b))"
      ],
      "metadata": {
        "colab": {
          "base_uri": "https://localhost:8080/"
        },
        "id": "e6boyoDV2UA1",
        "outputId": "f9cd6726-f70d-4d78-edde-087753a2495e"
      },
      "execution_count": 9,
      "outputs": [
        {
          "output_type": "stream",
          "name": "stdout",
          "text": [
            "<class 'int'>\n",
            "<class 'float'>\n"
          ]
        }
      ]
    },
    {
      "cell_type": "code",
      "source": [
        "bool(23.7)"
      ],
      "metadata": {
        "colab": {
          "base_uri": "https://localhost:8080/"
        },
        "id": "YMhsgEZc1zuE",
        "outputId": "806a702c-ec29-47e1-8b20-bb3d2941d4d9"
      },
      "execution_count": 10,
      "outputs": [
        {
          "output_type": "execute_result",
          "data": {
            "text/plain": [
              "True"
            ]
          },
          "metadata": {},
          "execution_count": 10
        }
      ]
    },
    {
      "cell_type": "code",
      "source": [
        "bool(0)"
      ],
      "metadata": {
        "colab": {
          "base_uri": "https://localhost:8080/"
        },
        "id": "tUmmMC4A2nLQ",
        "outputId": "6dee1c78-6377-4be2-cea3-89c3631f8938"
      },
      "execution_count": 11,
      "outputs": [
        {
          "output_type": "execute_result",
          "data": {
            "text/plain": [
              "False"
            ]
          },
          "metadata": {},
          "execution_count": 11
        }
      ]
    },
    {
      "cell_type": "code",
      "source": [
        "c = 'my string'\n",
        "d = str(a)+\" \"+c\n",
        "print(d)\n",
        "print(int(b))"
      ],
      "metadata": {
        "colab": {
          "base_uri": "https://localhost:8080/"
        },
        "id": "BrqMMs7W20SL",
        "outputId": "f7bd2977-ab05-4825-fb2f-04aa50ffaa00"
      },
      "execution_count": 12,
      "outputs": [
        {
          "output_type": "stream",
          "name": "stdout",
          "text": [
            "100 my string\n",
            "100\n"
          ]
        }
      ]
    },
    {
      "cell_type": "code",
      "source": [
        "bool('')"
      ],
      "metadata": {
        "colab": {
          "base_uri": "https://localhost:8080/"
        },
        "id": "c9xnCb0y2yoa",
        "outputId": "4064a48f-70fa-4982-fc96-96942f4f3149"
      },
      "execution_count": 13,
      "outputs": [
        {
          "output_type": "execute_result",
          "data": {
            "text/plain": [
              "False"
            ]
          },
          "metadata": {},
          "execution_count": 13
        }
      ]
    },
    {
      "cell_type": "code",
      "source": [
        "import numpy as np\n",
        "a = np.arange(15)\n",
        "print(a)\n",
        "m = np.mean(a)\n",
        "print(m)"
      ],
      "metadata": {
        "colab": {
          "base_uri": "https://localhost:8080/"
        },
        "id": "mQexdi1328mh",
        "outputId": "ca01508c-62cb-4079-f9ed-bd5a17f75bbb"
      },
      "execution_count": 14,
      "outputs": [
        {
          "output_type": "stream",
          "name": "stdout",
          "text": [
            "[ 0  1  2  3  4  5  6  7  8  9 10 11 12 13 14]\n",
            "7.0\n"
          ]
        }
      ]
    },
    {
      "cell_type": "code",
      "source": [
        "height = np.array([45, 75, 60, 51, np.nan])\n",
        "print(np.mean(height))\n",
        "print(np.nanmean(height))"
      ],
      "metadata": {
        "colab": {
          "base_uri": "https://localhost:8080/"
        },
        "id": "4l7SLFac3jMg",
        "outputId": "37f9b221-5ba9-482e-a7d8-92eb3fb63ba4"
      },
      "execution_count": 15,
      "outputs": [
        {
          "output_type": "stream",
          "name": "stdout",
          "text": [
            "nan\n",
            "57.75\n"
          ]
        }
      ]
    },
    {
      "cell_type": "code",
      "source": [
        "x = np.array([1, -1, 0, np.infty, -np.inf])\n",
        "print(x/0)\n",
        "print(x/np.Infinity)"
      ],
      "metadata": {
        "colab": {
          "base_uri": "https://localhost:8080/"
        },
        "id": "dPF0Heiz4h_v",
        "outputId": "ee9e7efd-e2f5-4a6b-8b25-c390ece5bbb2"
      },
      "execution_count": 16,
      "outputs": [
        {
          "output_type": "stream",
          "name": "stdout",
          "text": [
            "[ inf -inf  nan  inf -inf]\n",
            "[ 0. -0.  0. nan nan]\n"
          ]
        },
        {
          "output_type": "stream",
          "name": "stderr",
          "text": [
            "<ipython-input-16-11678b3c65f9>:2: RuntimeWarning: divide by zero encountered in divide\n",
            "  print(x/0)\n",
            "<ipython-input-16-11678b3c65f9>:2: RuntimeWarning: invalid value encountered in divide\n",
            "  print(x/0)\n",
            "<ipython-input-16-11678b3c65f9>:3: RuntimeWarning: invalid value encountered in divide\n",
            "  print(x/np.Infinity)\n"
          ]
        }
      ]
    },
    {
      "cell_type": "code",
      "source": [
        "import datetime as dt\n",
        "now = dt.datetime.now()\n",
        "print(now.year)"
      ],
      "metadata": {
        "colab": {
          "base_uri": "https://localhost:8080/"
        },
        "id": "-OxyqssX42Ll",
        "outputId": "98479f1f-2033-4fe1-8194-13553c1299b7"
      },
      "execution_count": 17,
      "outputs": [
        {
          "output_type": "stream",
          "name": "stdout",
          "text": [
            "2024\n"
          ]
        }
      ]
    },
    {
      "cell_type": "code",
      "source": [
        "print(now.strftime(\"%Y-%m-%d: %A\"))"
      ],
      "metadata": {
        "colab": {
          "base_uri": "https://localhost:8080/"
        },
        "id": "lWao6EFk8C7-",
        "outputId": "b3945d2f-6cc2-464f-f832-fbabb673cefe"
      },
      "execution_count": 18,
      "outputs": [
        {
          "output_type": "stream",
          "name": "stdout",
          "text": [
            "2024-10-07: Monday\n"
          ]
        }
      ]
    },
    {
      "cell_type": "code",
      "source": [
        "dob1 = dt.datetime(2000, 5, 17)\n",
        "age = now.year - dob1.year\n",
        "print(age)"
      ],
      "metadata": {
        "colab": {
          "base_uri": "https://localhost:8080/"
        },
        "id": "R2ksh4g58QBu",
        "outputId": "456d3cf1-5d60-4491-a99f-76056415fc5b"
      },
      "execution_count": 19,
      "outputs": [
        {
          "output_type": "stream",
          "name": "stdout",
          "text": [
            "24\n"
          ]
        }
      ]
    },
    {
      "cell_type": "markdown",
      "source": [
        "# 3 장"
      ],
      "metadata": {
        "id": "kecY5bINqGA2"
      }
    },
    {
      "cell_type": "code",
      "source": [
        "xv = np.array([1, 2, 3, 4, 5, 6, 7, 8, 9, 10])\n",
        "xv = np.arange(1,10)\n",
        "xv[4]"
      ],
      "metadata": {
        "id": "fi-dvh7R8g82",
        "colab": {
          "base_uri": "https://localhost:8080/"
        },
        "outputId": "b9bd2347-6c91-4b40-879a-086bd88a0bdb"
      },
      "execution_count": 20,
      "outputs": [
        {
          "output_type": "execute_result",
          "data": {
            "text/plain": [
              "5"
            ]
          },
          "metadata": {},
          "execution_count": 20
        }
      ]
    },
    {
      "cell_type": "code",
      "source": [
        "xv[1:4]"
      ],
      "metadata": {
        "colab": {
          "base_uri": "https://localhost:8080/"
        },
        "id": "ouoBsXfrpbQM",
        "outputId": "735272a2-3a4f-43ff-fc3d-2f0f81f7906f"
      },
      "execution_count": 21,
      "outputs": [
        {
          "output_type": "execute_result",
          "data": {
            "text/plain": [
              "array([2, 3, 4])"
            ]
          },
          "metadata": {},
          "execution_count": 21
        }
      ]
    },
    {
      "cell_type": "code",
      "source": [
        "len(xv)"
      ],
      "metadata": {
        "colab": {
          "base_uri": "https://localhost:8080/"
        },
        "id": "yvgg0I2npeD2",
        "outputId": "0faa1599-9c48-46a8-e0ea-34a688364785"
      },
      "execution_count": 22,
      "outputs": [
        {
          "output_type": "execute_result",
          "data": {
            "text/plain": [
              "9"
            ]
          },
          "metadata": {},
          "execution_count": 22
        }
      ]
    },
    {
      "cell_type": "code",
      "source": [
        "xv.size"
      ],
      "metadata": {
        "colab": {
          "base_uri": "https://localhost:8080/"
        },
        "id": "KiKbsy6api0L",
        "outputId": "9a774c29-8297-4243-c0ee-ded0f2de0ca5"
      },
      "execution_count": 23,
      "outputs": [
        {
          "output_type": "execute_result",
          "data": {
            "text/plain": [
              "9"
            ]
          },
          "metadata": {},
          "execution_count": 23
        }
      ]
    },
    {
      "cell_type": "code",
      "source": [
        "xm=np.array([[1,2,3], [4,5,6], [7,8,9]])\n",
        "xm"
      ],
      "metadata": {
        "colab": {
          "base_uri": "https://localhost:8080/"
        },
        "id": "V-JI4GHsply3",
        "outputId": "01b261ff-03e3-45fd-ee17-728224c48610"
      },
      "execution_count": 24,
      "outputs": [
        {
          "output_type": "execute_result",
          "data": {
            "text/plain": [
              "array([[1, 2, 3],\n",
              "       [4, 5, 6],\n",
              "       [7, 8, 9]])"
            ]
          },
          "metadata": {},
          "execution_count": 24
        }
      ]
    },
    {
      "cell_type": "code",
      "source": [
        "xm = np.arange(1,10)\n",
        "xm = xm.reshape(3,3)\n",
        "xm"
      ],
      "metadata": {
        "colab": {
          "base_uri": "https://localhost:8080/"
        },
        "id": "BElEfeVWp6L2",
        "outputId": "bf0349a4-70d8-4984-b171-7c3525484b27"
      },
      "execution_count": 25,
      "outputs": [
        {
          "output_type": "execute_result",
          "data": {
            "text/plain": [
              "array([[1, 2, 3],\n",
              "       [4, 5, 6],\n",
              "       [7, 8, 9]])"
            ]
          },
          "metadata": {},
          "execution_count": 25
        }
      ]
    },
    {
      "cell_type": "code",
      "source": [
        "xm = np.array(range(1,10))\n",
        "xm = xm.reshape(3,3)\n",
        "xm.shape"
      ],
      "metadata": {
        "colab": {
          "base_uri": "https://localhost:8080/"
        },
        "id": "u7zEMhDzqIz_",
        "outputId": "4b33a6c3-e860-490d-bfc9-067719f42a5e"
      },
      "execution_count": 26,
      "outputs": [
        {
          "output_type": "execute_result",
          "data": {
            "text/plain": [
              "(3, 3)"
            ]
          },
          "metadata": {},
          "execution_count": 26
        }
      ]
    },
    {
      "cell_type": "code",
      "source": [
        "xm[1,2]"
      ],
      "metadata": {
        "colab": {
          "base_uri": "https://localhost:8080/"
        },
        "id": "L-sNFcLPqiYQ",
        "outputId": "bca20ef6-2f85-47bf-fd40-e1db609b83de"
      },
      "execution_count": 27,
      "outputs": [
        {
          "output_type": "execute_result",
          "data": {
            "text/plain": [
              "6"
            ]
          },
          "metadata": {},
          "execution_count": 27
        }
      ]
    },
    {
      "cell_type": "code",
      "source": [
        "xm[:, 0]"
      ],
      "metadata": {
        "colab": {
          "base_uri": "https://localhost:8080/"
        },
        "id": "nEGHjSVuqmYv",
        "outputId": "12d00fca-297d-473b-f624-55b159d6eefa"
      },
      "execution_count": 28,
      "outputs": [
        {
          "output_type": "execute_result",
          "data": {
            "text/plain": [
              "array([1, 4, 7])"
            ]
          },
          "metadata": {},
          "execution_count": 28
        }
      ]
    },
    {
      "cell_type": "code",
      "source": [
        "xm[0:2, :]"
      ],
      "metadata": {
        "colab": {
          "base_uri": "https://localhost:8080/"
        },
        "id": "Xd2p8GdkqtzW",
        "outputId": "56a0fb2a-7252-4a45-f2de-946e71f78df5"
      },
      "execution_count": 29,
      "outputs": [
        {
          "output_type": "execute_result",
          "data": {
            "text/plain": [
              "array([[1, 2, 3],\n",
              "       [4, 5, 6]])"
            ]
          },
          "metadata": {},
          "execution_count": 29
        }
      ]
    },
    {
      "cell_type": "code",
      "source": [
        "xv[3] = 11\n",
        "xv"
      ],
      "metadata": {
        "colab": {
          "base_uri": "https://localhost:8080/"
        },
        "id": "Ya4viuD5rFfx",
        "outputId": "21330c92-3540-4fc4-f5a9-bdd16485e0fe"
      },
      "execution_count": 30,
      "outputs": [
        {
          "output_type": "execute_result",
          "data": {
            "text/plain": [
              "array([ 1,  2,  3, 11,  5,  6,  7,  8,  9])"
            ]
          },
          "metadata": {},
          "execution_count": 30
        }
      ]
    },
    {
      "cell_type": "code",
      "source": [
        "xm[0,2] = 11\n",
        "xm"
      ],
      "metadata": {
        "colab": {
          "base_uri": "https://localhost:8080/"
        },
        "id": "m1Jx1ptArM8b",
        "outputId": "dc6f6fc3-d9fa-4a79-8051-e3a5fa2180ce"
      },
      "execution_count": 31,
      "outputs": [
        {
          "output_type": "execute_result",
          "data": {
            "text/plain": [
              "array([[ 1,  2, 11],\n",
              "       [ 4,  5,  6],\n",
              "       [ 7,  8,  9]])"
            ]
          },
          "metadata": {},
          "execution_count": 31
        }
      ]
    },
    {
      "cell_type": "code",
      "source": [
        "a = [2,3,'c']\n",
        "x= [1,2,'a', a]\n",
        "print(x)"
      ],
      "metadata": {
        "colab": {
          "base_uri": "https://localhost:8080/"
        },
        "id": "VgirAzvuu4KC",
        "outputId": "dbb6c8bd-7002-4e42-cc4d-d5d17fa42471"
      },
      "execution_count": 32,
      "outputs": [
        {
          "output_type": "stream",
          "name": "stdout",
          "text": [
            "[1, 2, 'a', [2, 3, 'c']]\n"
          ]
        }
      ]
    },
    {
      "cell_type": "code",
      "source": [
        "x[3]"
      ],
      "metadata": {
        "id": "D8-9Lvj3vAAk",
        "colab": {
          "base_uri": "https://localhost:8080/"
        },
        "outputId": "b01bc673-c71d-41b4-f387-ea6303f443e2"
      },
      "execution_count": 33,
      "outputs": [
        {
          "output_type": "execute_result",
          "data": {
            "text/plain": [
              "[2, 3, 'c']"
            ]
          },
          "metadata": {},
          "execution_count": 33
        }
      ]
    },
    {
      "cell_type": "code",
      "source": [
        "x2 = [[1,2,3], [4,5,6], [7,8,9]]\n",
        "x2[0][2]"
      ],
      "metadata": {
        "colab": {
          "base_uri": "https://localhost:8080/"
        },
        "id": "YV8eTbJUvZrV",
        "outputId": "09ac172f-9d39-4189-cf14-8851c004a15d"
      },
      "execution_count": 34,
      "outputs": [
        {
          "output_type": "execute_result",
          "data": {
            "text/plain": [
              "3"
            ]
          },
          "metadata": {},
          "execution_count": 34
        }
      ]
    },
    {
      "cell_type": "code",
      "source": [
        "x2[2]"
      ],
      "metadata": {
        "colab": {
          "base_uri": "https://localhost:8080/"
        },
        "id": "6hnpJ7pKvlOY",
        "outputId": "c60e91db-0ba3-4107-870a-926e67946271"
      },
      "execution_count": 35,
      "outputs": [
        {
          "output_type": "execute_result",
          "data": {
            "text/plain": [
              "[7, 8, 9]"
            ]
          },
          "metadata": {},
          "execution_count": 35
        }
      ]
    },
    {
      "cell_type": "code",
      "source": [
        "[row[2] for row in x2]"
      ],
      "metadata": {
        "colab": {
          "base_uri": "https://localhost:8080/"
        },
        "id": "xZTLytgfvovA",
        "outputId": "265f3a0d-01bd-4889-e28f-e85866b49c6b"
      },
      "execution_count": 36,
      "outputs": [
        {
          "output_type": "execute_result",
          "data": {
            "text/plain": [
              "[3, 6, 9]"
            ]
          },
          "metadata": {},
          "execution_count": 36
        }
      ]
    },
    {
      "cell_type": "code",
      "source": [
        "tpl = (1,2,3)\n",
        "type(tpl)"
      ],
      "metadata": {
        "colab": {
          "base_uri": "https://localhost:8080/"
        },
        "id": "9m1vlIU8v5IU",
        "outputId": "443308d2-b109-40d4-d8b2-f3731e4f555a"
      },
      "execution_count": 37,
      "outputs": [
        {
          "output_type": "execute_result",
          "data": {
            "text/plain": [
              "tuple"
            ]
          },
          "metadata": {},
          "execution_count": 37
        }
      ]
    },
    {
      "cell_type": "code",
      "source": [
        "tpl[2]"
      ],
      "metadata": {
        "colab": {
          "base_uri": "https://localhost:8080/"
        },
        "id": "gkUTHTjGwGIB",
        "outputId": "8efd9a95-2c6f-49d3-e377-78a36bda32d0"
      },
      "execution_count": 38,
      "outputs": [
        {
          "output_type": "execute_result",
          "data": {
            "text/plain": [
              "3"
            ]
          },
          "metadata": {},
          "execution_count": 38
        }
      ]
    },
    {
      "cell_type": "code",
      "source": [
        "country_code = {'korea':82, 'us':1, 'china':86}\n",
        "print(len(country_code))"
      ],
      "metadata": {
        "colab": {
          "base_uri": "https://localhost:8080/"
        },
        "id": "EUyUESX5wLXk",
        "outputId": "9c2da089-ecc4-450a-b8c6-4f563622ffeb"
      },
      "execution_count": 39,
      "outputs": [
        {
          "output_type": "stream",
          "name": "stdout",
          "text": [
            "3\n"
          ]
        }
      ]
    },
    {
      "cell_type": "code",
      "source": [
        "print(country_code['korea'])"
      ],
      "metadata": {
        "colab": {
          "base_uri": "https://localhost:8080/"
        },
        "id": "F2fsaWGSwmaK",
        "outputId": "d79f0d31-ddb7-476d-d20b-a76344996a34"
      },
      "execution_count": 40,
      "outputs": [
        {
          "output_type": "stream",
          "name": "stdout",
          "text": [
            "82\n"
          ]
        }
      ]
    },
    {
      "cell_type": "code",
      "source": [
        "print(country_code.keys())"
      ],
      "metadata": {
        "colab": {
          "base_uri": "https://localhost:8080/"
        },
        "id": "qVrtcq-iws5m",
        "outputId": "d8a35282-3008-418d-debe-6039a161b71f"
      },
      "execution_count": 41,
      "outputs": [
        {
          "output_type": "stream",
          "name": "stdout",
          "text": [
            "dict_keys(['korea', 'us', 'china'])\n"
          ]
        }
      ]
    },
    {
      "cell_type": "code",
      "source": [
        "print(country_code.values())"
      ],
      "metadata": {
        "colab": {
          "base_uri": "https://localhost:8080/"
        },
        "id": "mMFSqxFnwyKw",
        "outputId": "9c55c535-2d18-42aa-bb82-3d36f6570648"
      },
      "execution_count": 42,
      "outputs": [
        {
          "output_type": "stream",
          "name": "stdout",
          "text": [
            "dict_values([82, 1, 86])\n"
          ]
        }
      ]
    },
    {
      "cell_type": "code",
      "source": [
        "print(country_code.items())"
      ],
      "metadata": {
        "colab": {
          "base_uri": "https://localhost:8080/"
        },
        "id": "t2BwQUZ8w5jN",
        "outputId": "f7f0206e-d010-451b-cc56-67f5448f2467"
      },
      "execution_count": 43,
      "outputs": [
        {
          "output_type": "stream",
          "name": "stdout",
          "text": [
            "dict_items([('korea', 82), ('us', 1), ('china', 86)])\n"
          ]
        }
      ]
    },
    {
      "cell_type": "code",
      "source": [
        "xm2 = xm\n",
        "xm2 = xm.copy()\n",
        "xm[0][0] = 10"
      ],
      "metadata": {
        "id": "LUAIbWjCw_Ho"
      },
      "execution_count": 44,
      "outputs": []
    },
    {
      "cell_type": "code",
      "source": [
        "from copy import deepcopy\n",
        "ym= [[1,2,3], [4,5,6], [7,8,9]]\n",
        "ym2 = deepcopy(ym)\n",
        "ym[0][0] = 10\n",
        "print(ym2)"
      ],
      "metadata": {
        "colab": {
          "base_uri": "https://localhost:8080/"
        },
        "id": "aq-BrgbBxYdg",
        "outputId": "b7198c7e-cc47-4ebf-e969-32b6ea5683b4"
      },
      "execution_count": 45,
      "outputs": [
        {
          "output_type": "stream",
          "name": "stdout",
          "text": [
            "[[1, 2, 3], [4, 5, 6], [7, 8, 9]]\n"
          ]
        }
      ]
    },
    {
      "cell_type": "code",
      "source": [
        "import pandas as pd\n",
        "import numpy as np\n",
        "d={'name':['Kim', 'Lee', 'Park'], 'height': [170, 180, 175]}\n",
        "df1 = pd. DataFrame(data=d)\n",
        "print(df1)"
      ],
      "metadata": {
        "colab": {
          "base_uri": "https://localhost:8080/"
        },
        "id": "m0grllOCdG7R",
        "outputId": "327940f8-3ba8-4d34-8e47-3f49729080d6"
      },
      "execution_count": 46,
      "outputs": [
        {
          "output_type": "stream",
          "name": "stdout",
          "text": [
            "   name  height\n",
            "0   Kim     170\n",
            "1   Lee     180\n",
            "2  Park     175\n"
          ]
        }
      ]
    },
    {
      "cell_type": "code",
      "source": [
        "df2 = pd.DataFrame([['Kim', 170], ['Lee', 180], ['Pakr', 175]], columns=['name', 'height'])\n",
        "print(df2)"
      ],
      "metadata": {
        "colab": {
          "base_uri": "https://localhost:8080/"
        },
        "id": "s7uGQ_bTePg3",
        "outputId": "a5c00ef7-4119-48cd-fd4b-7afe603df868"
      },
      "execution_count": 47,
      "outputs": [
        {
          "output_type": "stream",
          "name": "stdout",
          "text": [
            "   name  height\n",
            "0   Kim     170\n",
            "1   Lee     180\n",
            "2  Pakr     175\n"
          ]
        }
      ]
    },
    {
      "cell_type": "code",
      "source": [
        "df3 = pd.DataFrame(np.array([[1,2,3], [4,5,6], [7,8,9]]),\n",
        "                   columns=['a', 'b', 'c'])\n",
        "print(df3)"
      ],
      "metadata": {
        "colab": {
          "base_uri": "https://localhost:8080/"
        },
        "id": "p9Cyw99Bek9m",
        "outputId": "dcbb98bf-0c44-42fa-8c9d-b38eb76a5a4f"
      },
      "execution_count": 48,
      "outputs": [
        {
          "output_type": "stream",
          "name": "stdout",
          "text": [
            "   a  b  c\n",
            "0  1  2  3\n",
            "1  4  5  6\n",
            "2  7  8  9\n"
          ]
        }
      ]
    },
    {
      "cell_type": "code",
      "source": [
        "print(df3.describe())"
      ],
      "metadata": {
        "colab": {
          "base_uri": "https://localhost:8080/"
        },
        "id": "8p3pmiJIfHxY",
        "outputId": "783a8c5f-b6f6-44d8-dd3d-422772467e47"
      },
      "execution_count": 49,
      "outputs": [
        {
          "output_type": "stream",
          "name": "stdout",
          "text": [
            "         a    b    c\n",
            "count  3.0  3.0  3.0\n",
            "mean   4.0  5.0  6.0\n",
            "std    3.0  3.0  3.0\n",
            "min    1.0  2.0  3.0\n",
            "25%    2.5  3.5  4.5\n",
            "50%    4.0  5.0  6.0\n",
            "75%    5.5  6.5  7.5\n",
            "max    7.0  8.0  9.0\n"
          ]
        }
      ]
    },
    {
      "cell_type": "code",
      "source": [
        "x = df1['height']\n",
        "print(x)"
      ],
      "metadata": {
        "colab": {
          "base_uri": "https://localhost:8080/"
        },
        "id": "5afeZwc1fG20",
        "outputId": "46241b7d-01e4-4bd8-fc06-693148586596"
      },
      "execution_count": 50,
      "outputs": [
        {
          "output_type": "stream",
          "name": "stdout",
          "text": [
            "0    170\n",
            "1    180\n",
            "2    175\n",
            "Name: height, dtype: int64\n"
          ]
        }
      ]
    },
    {
      "cell_type": "code",
      "source": [
        "y = df1.iloc[0:2]\n",
        "print(y)"
      ],
      "metadata": {
        "colab": {
          "base_uri": "https://localhost:8080/"
        },
        "id": "vvDzLS_xf8In",
        "outputId": "9294a719-0824-48ef-931b-d7c941544905"
      },
      "execution_count": 51,
      "outputs": [
        {
          "output_type": "stream",
          "name": "stdout",
          "text": [
            "  name  height\n",
            "0  Kim     170\n",
            "1  Lee     180\n"
          ]
        }
      ]
    },
    {
      "cell_type": "code",
      "source": [
        "y = df1.iloc[:, 1]\n",
        "print(y)"
      ],
      "metadata": {
        "colab": {
          "base_uri": "https://localhost:8080/"
        },
        "id": "TKVHGuiAgQKT",
        "outputId": "08c89b90-a895-4b13-b6a7-8d988b914ebd"
      },
      "execution_count": 52,
      "outputs": [
        {
          "output_type": "stream",
          "name": "stdout",
          "text": [
            "0    170\n",
            "1    180\n",
            "2    175\n",
            "Name: height, dtype: int64\n"
          ]
        }
      ]
    },
    {
      "cell_type": "code",
      "source": [
        "y = df1.iloc[:, -1]\n",
        "print(y)"
      ],
      "metadata": {
        "colab": {
          "base_uri": "https://localhost:8080/"
        },
        "id": "4X770Td9gbrM",
        "outputId": "a1239ebb-f869-4503-8bb4-5e993b3a3e4e"
      },
      "execution_count": 53,
      "outputs": [
        {
          "output_type": "stream",
          "name": "stdout",
          "text": [
            "0    170\n",
            "1    180\n",
            "2    175\n",
            "Name: height, dtype: int64\n"
          ]
        }
      ]
    },
    {
      "cell_type": "code",
      "source": [
        "y = df1.iloc[[1,2], 0]\n",
        "print(y)"
      ],
      "metadata": {
        "colab": {
          "base_uri": "https://localhost:8080/"
        },
        "id": "3CvAuKKmgnTR",
        "outputId": "75cead4c-b393-4db0-d655-a06f4e7ff4ec"
      },
      "execution_count": 54,
      "outputs": [
        {
          "output_type": "stream",
          "name": "stdout",
          "text": [
            "1     Lee\n",
            "2    Park\n",
            "Name: name, dtype: object\n"
          ]
        }
      ]
    },
    {
      "cell_type": "code",
      "source": [
        "x1 = [1,2,3,4]; x2 = [5,6,7,8]\n",
        "y1 = np.array([1,2,3,4]); y2 = np.array([5,6,7,8])\n",
        "print(x1+[2])"
      ],
      "metadata": {
        "colab": {
          "base_uri": "https://localhost:8080/"
        },
        "id": "NUFU_d69gvCO",
        "outputId": "e8b3e4e6-dfcd-4adf-c4e1-fb909645d737"
      },
      "execution_count": 55,
      "outputs": [
        {
          "output_type": "stream",
          "name": "stdout",
          "text": [
            "[1, 2, 3, 4, 2]\n"
          ]
        }
      ]
    },
    {
      "cell_type": "code",
      "source": [
        "print(y1+2)"
      ],
      "metadata": {
        "colab": {
          "base_uri": "https://localhost:8080/"
        },
        "id": "LqH6Q5jkkOWU",
        "outputId": "20285769-1d87-4979-a602-f2f9c8563cbe"
      },
      "execution_count": 56,
      "outputs": [
        {
          "output_type": "stream",
          "name": "stdout",
          "text": [
            "[3 4 5 6]\n"
          ]
        }
      ]
    },
    {
      "cell_type": "code",
      "source": [
        "print(x1+x2)"
      ],
      "metadata": {
        "colab": {
          "base_uri": "https://localhost:8080/"
        },
        "id": "tH_fXrC0kQ-S",
        "outputId": "331a8235-9d6b-44a1-b012-3e9f37b8ff76"
      },
      "execution_count": 57,
      "outputs": [
        {
          "output_type": "stream",
          "name": "stdout",
          "text": [
            "[1, 2, 3, 4, 5, 6, 7, 8]\n"
          ]
        }
      ]
    },
    {
      "cell_type": "code",
      "source": [
        "print(y1+y2)"
      ],
      "metadata": {
        "colab": {
          "base_uri": "https://localhost:8080/"
        },
        "id": "XOkljOSSkX-m",
        "outputId": "509370a3-d505-4e47-8a5a-3ee42ab0a43a"
      },
      "execution_count": 58,
      "outputs": [
        {
          "output_type": "stream",
          "name": "stdout",
          "text": [
            "[ 6  8 10 12]\n"
          ]
        }
      ]
    },
    {
      "cell_type": "code",
      "source": [
        "xrow = np.array([1,2,3])\n",
        "xcol = np.array([[1], [2], [3]])\n",
        "print(\"dimensions: \", xrow.shape, xcol.shape)"
      ],
      "metadata": {
        "colab": {
          "base_uri": "https://localhost:8080/"
        },
        "id": "30lSszC8kbB6",
        "outputId": "73c29f77-42a3-4332-f7de-b5de27d305b7"
      },
      "execution_count": 59,
      "outputs": [
        {
          "output_type": "stream",
          "name": "stdout",
          "text": [
            "dimensions:  (3,) (3, 1)\n"
          ]
        }
      ]
    },
    {
      "cell_type": "code",
      "source": [
        "print(\"xrow \\n\", xrow, \"\\n xcol: \\n\", xcol)"
      ],
      "metadata": {
        "colab": {
          "base_uri": "https://localhost:8080/"
        },
        "id": "MUlRpfaykyE5",
        "outputId": "c6fe7046-f630-42e6-93a3-50e492958a80"
      },
      "execution_count": 60,
      "outputs": [
        {
          "output_type": "stream",
          "name": "stdout",
          "text": [
            "xrow \n",
            " [1 2 3] \n",
            " xcol: \n",
            " [[1]\n",
            " [2]\n",
            " [3]]\n"
          ]
        }
      ]
    },
    {
      "cell_type": "code",
      "source": [
        "aa = np.array(range(1, 11))\n",
        "bb = np.array(range(1, 6))\n",
        "cc = np.array([1,2,1,2,1])"
      ],
      "metadata": {
        "id": "LB8Ql52TmpET"
      },
      "execution_count": 61,
      "outputs": []
    },
    {
      "cell_type": "code",
      "source": [
        "bb +cc"
      ],
      "metadata": {
        "colab": {
          "base_uri": "https://localhost:8080/"
        },
        "id": "QbV-14DFm6Dx",
        "outputId": "4557a3d2-b244-428b-f7d0-0b6bf36b1b8b"
      },
      "execution_count": 62,
      "outputs": [
        {
          "output_type": "execute_result",
          "data": {
            "text/plain": [
              "array([2, 4, 4, 6, 6])"
            ]
          },
          "metadata": {},
          "execution_count": 62
        }
      ]
    },
    {
      "cell_type": "code",
      "source": [
        "aa *3"
      ],
      "metadata": {
        "colab": {
          "base_uri": "https://localhost:8080/"
        },
        "id": "6N5tt6pOnFnY",
        "outputId": "8bac2640-13ee-4952-fe43-6e6ab0de58d3"
      },
      "execution_count": 63,
      "outputs": [
        {
          "output_type": "execute_result",
          "data": {
            "text/plain": [
              "array([ 3,  6,  9, 12, 15, 18, 21, 24, 27, 30])"
            ]
          },
          "metadata": {},
          "execution_count": 63
        }
      ]
    },
    {
      "cell_type": "code",
      "source": [
        "bb ** 2"
      ],
      "metadata": {
        "colab": {
          "base_uri": "https://localhost:8080/"
        },
        "id": "7b9GZ7C3nSXV",
        "outputId": "21d658f9-09f3-48cf-b62b-73df34d38965"
      },
      "execution_count": 64,
      "outputs": [
        {
          "output_type": "execute_result",
          "data": {
            "text/plain": [
              "array([ 1,  4,  9, 16, 25])"
            ]
          },
          "metadata": {},
          "execution_count": 64
        }
      ]
    },
    {
      "cell_type": "code",
      "source": [
        "np.power(bb, 2)"
      ],
      "metadata": {
        "colab": {
          "base_uri": "https://localhost:8080/"
        },
        "id": "McUBIQFnnW1Q",
        "outputId": "a5cf9218-6d6c-427e-c4c1-c81523c2578a"
      },
      "execution_count": 65,
      "outputs": [
        {
          "output_type": "execute_result",
          "data": {
            "text/plain": [
              "array([ 1,  4,  9, 16, 25])"
            ]
          },
          "metadata": {},
          "execution_count": 65
        }
      ]
    },
    {
      "cell_type": "code",
      "source": [
        "a = np.array(range(1,11,2))\n",
        "print(a)"
      ],
      "metadata": {
        "colab": {
          "base_uri": "https://localhost:8080/"
        },
        "id": "z03sG3UnnaKy",
        "outputId": "8e4024db-9870-4cbd-fe99-94ea7f310b26"
      },
      "execution_count": 66,
      "outputs": [
        {
          "output_type": "stream",
          "name": "stdout",
          "text": [
            "[1 3 5 7 9]\n"
          ]
        }
      ]
    },
    {
      "cell_type": "code",
      "source": [
        "a1 = np.delete(a, 2)\n",
        "print(a1)"
      ],
      "metadata": {
        "colab": {
          "base_uri": "https://localhost:8080/"
        },
        "id": "f6Lh-RLznvL1",
        "outputId": "c95ea8b5-c8f3-47c1-f305-7d2f004e1096"
      },
      "execution_count": 67,
      "outputs": [
        {
          "output_type": "stream",
          "name": "stdout",
          "text": [
            "[1 3 7 9]\n"
          ]
        }
      ]
    },
    {
      "cell_type": "code",
      "source": [
        "idx = [0, 1, 3]\n",
        "a2 = np.delete(a, idx)\n",
        "print(a2)"
      ],
      "metadata": {
        "colab": {
          "base_uri": "https://localhost:8080/"
        },
        "id": "ujop34vNn0tB",
        "outputId": "af67e76c-8eab-4673-aa79-a89a5c734fe5"
      },
      "execution_count": 68,
      "outputs": [
        {
          "output_type": "stream",
          "name": "stdout",
          "text": [
            "[5 9]\n"
          ]
        }
      ]
    },
    {
      "cell_type": "code",
      "source": [
        "b1 = 11\n",
        "a3 = np.append(a, b1)\n",
        "b2 = 2\n",
        "a4 = np.insert(a, 1, b2)\n",
        "print(a3)\n",
        "print(a4)\n",
        "b3= [1,2,3]\n",
        "a5 = np.insert(a, 2, b3)\n",
        "print(a5)"
      ],
      "metadata": {
        "colab": {
          "base_uri": "https://localhost:8080/"
        },
        "id": "5wUqHUIJoCpB",
        "outputId": "b172be6a-72c5-42ab-b7f0-960039014a7d"
      },
      "execution_count": 69,
      "outputs": [
        {
          "output_type": "stream",
          "name": "stdout",
          "text": [
            "[ 1  3  5  7  9 11]\n",
            "[1 2 3 5 7 9]\n",
            "[1 3 1 2 3 5 7 9]\n"
          ]
        }
      ]
    },
    {
      "cell_type": "code",
      "source": [
        "mx1 = np.array(range(1,10)).reshape(3,3)\n",
        "mx2 = np.append(mx1, np.array([10, 20, 30]).reshape(1,3), axis=0)\n",
        "mx3 = np.append(mx1, np.array([10, 20, 30]).reshape(3,1), axis=1)\n",
        "print(mx1)\n",
        "print(mx2)\n",
        "print(mx3)"
      ],
      "metadata": {
        "colab": {
          "base_uri": "https://localhost:8080/"
        },
        "id": "fZdbY2fJoJUj",
        "outputId": "1c3fd08e-dd02-44ac-fcd5-5aa881dcb480"
      },
      "execution_count": 70,
      "outputs": [
        {
          "output_type": "stream",
          "name": "stdout",
          "text": [
            "[[1 2 3]\n",
            " [4 5 6]\n",
            " [7 8 9]]\n",
            "[[ 1  2  3]\n",
            " [ 4  5  6]\n",
            " [ 7  8  9]\n",
            " [10 20 30]]\n",
            "[[ 1  2  3 10]\n",
            " [ 4  5  6 20]\n",
            " [ 7  8  9 30]]\n"
          ]
        }
      ]
    },
    {
      "cell_type": "code",
      "source": [
        "mx4 = np.delete(mx1, 0, axis=0)\n",
        "mx5 = np.delete(mx1, [0,1], axis=1)\n",
        "print(mx4)\n",
        "print(mx5)"
      ],
      "metadata": {
        "colab": {
          "base_uri": "https://localhost:8080/"
        },
        "id": "NfVahozFpgTJ",
        "outputId": "1d7c395b-1940-4433-86b6-160ddfc18e0e"
      },
      "execution_count": 71,
      "outputs": [
        {
          "output_type": "stream",
          "name": "stdout",
          "text": [
            "[[4 5 6]\n",
            " [7 8 9]]\n",
            "[[3]\n",
            " [6]\n",
            " [9]]\n"
          ]
        }
      ]
    },
    {
      "cell_type": "code",
      "source": [
        "mx6 = np.insert(mx1, 1, np.array([10, 20, 30]), axis=0)\n",
        "mx7 = np.insert(mx1, 1, np.array(range(10, 100, 10)).reshape(3,3), axis=1)\n",
        "print(mx6)\n",
        "print(mx7)"
      ],
      "metadata": {
        "colab": {
          "base_uri": "https://localhost:8080/"
        },
        "id": "dJzyPQBcpsBa",
        "outputId": "0f39e8c9-7350-4850-938a-3450e6b6f91a"
      },
      "execution_count": 72,
      "outputs": [
        {
          "output_type": "stream",
          "name": "stdout",
          "text": [
            "[[ 1  2  3]\n",
            " [10 20 30]\n",
            " [ 4  5  6]\n",
            " [ 7  8  9]]\n",
            "[[ 1 10 40 70  2  3]\n",
            " [ 4 20 50 80  5  6]\n",
            " [ 7 30 60 90  8  9]]\n"
          ]
        }
      ]
    },
    {
      "cell_type": "code",
      "source": [
        "mtx = np.array([[1,2,3], [4,5,6]])\n",
        "mtx"
      ],
      "metadata": {
        "colab": {
          "base_uri": "https://localhost:8080/"
        },
        "id": "_ydproD5qC0f",
        "outputId": "82b16dc0-75fa-4e78-db69-7d568e59c461"
      },
      "execution_count": 73,
      "outputs": [
        {
          "output_type": "execute_result",
          "data": {
            "text/plain": [
              "array([[1, 2, 3],\n",
              "       [4, 5, 6]])"
            ]
          },
          "metadata": {},
          "execution_count": 73
        }
      ]
    },
    {
      "cell_type": "code",
      "source": [
        "mtx = np.array([1,2,3,4,5,6]).reshape(2,3)\n",
        "mtx"
      ],
      "metadata": {
        "colab": {
          "base_uri": "https://localhost:8080/"
        },
        "id": "jJeaKXS6qSro",
        "outputId": "bce656f7-baec-4ce8-b07b-f4734a941e22"
      },
      "execution_count": 74,
      "outputs": [
        {
          "output_type": "execute_result",
          "data": {
            "text/plain": [
              "array([[1, 2, 3],\n",
              "       [4, 5, 6]])"
            ]
          },
          "metadata": {},
          "execution_count": 74
        }
      ]
    },
    {
      "cell_type": "code",
      "source": [
        "mx1 = np.array(range(1,7)).reshape(2,3)\n",
        "mx2 = np.hstack((np.repeat(1,3).reshape(3,1), np.repeat(2,3).reshape(3,1)))\n",
        "print(mx1)\n",
        "print(mx2)\n",
        "mx3 = np.matmul(mx1, mx2)\n",
        "print(mx3)\n",
        "mx3.shape"
      ],
      "metadata": {
        "colab": {
          "base_uri": "https://localhost:8080/"
        },
        "id": "UeSFjv3oqWSp",
        "outputId": "76bc51d4-30a1-4982-c0d8-5db7ad480889"
      },
      "execution_count": 75,
      "outputs": [
        {
          "output_type": "stream",
          "name": "stdout",
          "text": [
            "[[1 2 3]\n",
            " [4 5 6]]\n",
            "[[1 2]\n",
            " [1 2]\n",
            " [1 2]]\n",
            "[[ 6 12]\n",
            " [15 30]]\n"
          ]
        },
        {
          "output_type": "execute_result",
          "data": {
            "text/plain": [
              "(2, 2)"
            ]
          },
          "metadata": {},
          "execution_count": 75
        }
      ]
    },
    {
      "cell_type": "markdown",
      "source": [
        "# 4 장"
      ],
      "metadata": {
        "id": "xoRhg76dqWVX"
      }
    },
    {
      "cell_type": "code",
      "source": [
        "def if_test1 (x):\n",
        "    if (x % 2 ==  0):\n",
        "        print(x, \"는 짝수입니다\")\n",
        "    else:\n",
        "        if (x % 2 == 1):\n",
        "            print(x, \"는 홀수입니다\")\n",
        "        else:\n",
        "            print(x, \"는 자연수가 아닙니다\")\n",
        "if_test1(8)"
      ],
      "metadata": {
        "colab": {
          "base_uri": "https://localhost:8080/"
        },
        "id": "rj4BmszOwBdL",
        "outputId": "006593b1-4fe5-4126-b1e0-baba038670a8"
      },
      "execution_count": 76,
      "outputs": [
        {
          "output_type": "stream",
          "name": "stdout",
          "text": [
            "8 는 짝수입니다\n"
          ]
        }
      ]
    },
    {
      "cell_type": "code",
      "source": [
        "def if_test2 (x):\n",
        "    if(x % 2 == 0):\n",
        "        print(x, \"는 짝수입니다\")\n",
        "    elif(x % 2 == 1):\n",
        "        print(x, \"는 홀수입니다\")\n",
        "    else:\n",
        "        print(x, \"는 자연수가 아닙니다\")\n",
        "if_test2(7)"
      ],
      "metadata": {
        "colab": {
          "base_uri": "https://localhost:8080/"
        },
        "id": "4_ld88K8xoGF",
        "outputId": "2f628a03-e8d1-4804-a921-726bb227f38f"
      },
      "execution_count": 77,
      "outputs": [
        {
          "output_type": "stream",
          "name": "stdout",
          "text": [
            "7 는 홀수입니다\n"
          ]
        }
      ]
    },
    {
      "cell_type": "code",
      "source": [
        "mysum = 0\n",
        "for x in [1,2,3,4,5,6,7,8,9,10]:\n",
        "    mysum = mysum + x**2\n",
        "else:\n",
        "    print(mysum)"
      ],
      "metadata": {
        "colab": {
          "base_uri": "https://localhost:8080/"
        },
        "id": "BjmWunMo0YB9",
        "outputId": "a836b595-9b53-414f-ba57-7b68d5be6fb9"
      },
      "execution_count": 78,
      "outputs": [
        {
          "output_type": "stream",
          "name": "stdout",
          "text": [
            "385\n"
          ]
        }
      ]
    },
    {
      "cell_type": "code",
      "source": [
        "x = 1\n",
        "sum1 = 0\n",
        "while (x <= 10):\n",
        "    sum1 = sum1 + x**2\n",
        "    x = x + 1\n",
        "#else: else가 있다면 print(sum1)은 들여써야함.\n",
        "print(sum1)"
      ],
      "metadata": {
        "colab": {
          "base_uri": "https://localhost:8080/"
        },
        "id": "mVD-DIn_00vM",
        "outputId": "6742171a-af20-4a56-a3bf-ef1dfd4661a4"
      },
      "execution_count": 79,
      "outputs": [
        {
          "output_type": "stream",
          "name": "stdout",
          "text": [
            "385\n"
          ]
        }
      ]
    },
    {
      "cell_type": "code",
      "source": [
        "x = range(1,6)\n",
        "for j in x:\n",
        "    if (j==3): continue\n",
        "    print(j, \" \")"
      ],
      "metadata": {
        "colab": {
          "base_uri": "https://localhost:8080/"
        },
        "id": "_VnO76EF2COR",
        "outputId": "564d3b0f-b8b0-45a7-f34a-ba7db0be8ee1"
      },
      "execution_count": 80,
      "outputs": [
        {
          "output_type": "stream",
          "name": "stdout",
          "text": [
            "1  \n",
            "2  \n",
            "4  \n",
            "5  \n"
          ]
        }
      ]
    },
    {
      "cell_type": "code",
      "source": [
        "x = range(1,6)\n",
        "for j in x:\n",
        "    if (j==3): break\n",
        "    print(j, \" \")"
      ],
      "metadata": {
        "colab": {
          "base_uri": "https://localhost:8080/"
        },
        "id": "UlrSPANc4gdR",
        "outputId": "1c7531a7-aa46-48c0-e78b-dbf0a79e8161"
      },
      "execution_count": 81,
      "outputs": [
        {
          "output_type": "stream",
          "name": "stdout",
          "text": [
            "1  \n",
            "2  \n"
          ]
        }
      ]
    },
    {
      "cell_type": "code",
      "source": [
        "def sum2(x, y):\n",
        "    mysum = x + y\n",
        "    return mysum\n",
        "sum2(4,7)"
      ],
      "metadata": {
        "colab": {
          "base_uri": "https://localhost:8080/"
        },
        "id": "B-oUWR3l5WvA",
        "outputId": "f721a5c3-8af2-4a63-ec06-4624a042e91f"
      },
      "execution_count": 82,
      "outputs": [
        {
          "output_type": "execute_result",
          "data": {
            "text/plain": [
              "11"
            ]
          },
          "metadata": {},
          "execution_count": 82
        }
      ]
    },
    {
      "cell_type": "code",
      "source": [
        "def my_sums(a=0, b=10):\n",
        "    sum1 = 0; sum2 = 0\n",
        "    data = np.arange(a,b+1)\n",
        "    for i in data:\n",
        "        sum1 = sum1 + i\n",
        "        sum2 = sum2+ i**2\n",
        "    return sum1, sum2, len(data)\n",
        "my_sums()"
      ],
      "metadata": {
        "colab": {
          "base_uri": "https://localhost:8080/"
        },
        "id": "8dOzvvwN-KvT",
        "outputId": "d8ea295b-9e41-4293-a9b5-e1034f3294e9"
      },
      "execution_count": 83,
      "outputs": [
        {
          "output_type": "execute_result",
          "data": {
            "text/plain": [
              "(55, 385, 11)"
            ]
          },
          "metadata": {},
          "execution_count": 83
        }
      ]
    },
    {
      "cell_type": "code",
      "source": [
        "a = my_sums(1,10)\n",
        "mm = a[0]/a[2]\n",
        "vv = (a[1] - a[2]*(mm**2))/(a[2] -1)\n",
        "print(mm) #평균\n",
        "print(vv) #분산"
      ],
      "metadata": {
        "colab": {
          "base_uri": "https://localhost:8080/"
        },
        "id": "3lcwTKbhDhkq",
        "outputId": "22419d81-ce90-411c-fbb0-ec8d8409a973"
      },
      "execution_count": 84,
      "outputs": [
        {
          "output_type": "stream",
          "name": "stdout",
          "text": [
            "5.5\n",
            "9.166666666666666\n"
          ]
        }
      ]
    },
    {
      "cell_type": "code",
      "source": [
        "class Student:\n",
        "    def __init__(self, first, last):\n",
        "        self.first = first\n",
        "        self.last = last\n",
        "\n",
        "    def capital_first(self):\n",
        "        return self.first.upper()\n",
        "aa = Student('John', 'Doe')\n",
        "bb = Student('Jane', 'Doe')\n",
        "print(aa.first, aa.last)\n",
        "print(bb.first, bb.last)\n",
        "print(aa.capital_first(), bb.capital_first())"
      ],
      "metadata": {
        "colab": {
          "base_uri": "https://localhost:8080/"
        },
        "id": "WOwvBVbaEgv8",
        "outputId": "d40b8b2f-94f7-4334-cf0d-618b2c37c03c"
      },
      "execution_count": 85,
      "outputs": [
        {
          "output_type": "stream",
          "name": "stdout",
          "text": [
            "John Doe\n",
            "Jane Doe\n",
            "JOHN JANE\n"
          ]
        }
      ]
    },
    {
      "cell_type": "code",
      "source": [
        "class StudentGrade(Student):\n",
        "    def __init__(self, first, last, score):\n",
        "        super().__init__(first, last)\n",
        "        self.score = score\n",
        "    def grade(self):\n",
        "        if self.score < 80:\n",
        "            grade = 'B'\n",
        "        else:\n",
        "            grade = 'A'\n",
        "        return grade"
      ],
      "metadata": {
        "id": "VKt9C_hLlkP5"
      },
      "execution_count": 92,
      "outputs": []
    },
    {
      "cell_type": "code",
      "source": [
        "aa = StudentGrade('John', 'Doe', 75)\n",
        "bb = StudentGrade('Jane', 'Doe', 95)\n",
        "print(aa.first, aa.last)\n",
        "print(aa.score, aa.grade())\n",
        "print(bb.score, bb.grade())\n",
        "print(bb.capital_first())"
      ],
      "metadata": {
        "colab": {
          "base_uri": "https://localhost:8080/"
        },
        "id": "eoCp7xp8uaIy",
        "outputId": "73f31f02-13e9-4841-e26c-2d5ff11393f0"
      },
      "execution_count": 99,
      "outputs": [
        {
          "output_type": "stream",
          "name": "stdout",
          "text": [
            "John Doe\n",
            "75 B\n",
            "95 A\n",
            "JANE\n"
          ]
        }
      ]
    },
    {
      "cell_type": "code",
      "source": [
        "def __init__(self, first, last, scroe):\n",
        "    self.first = first\n",
        "    self.last = last\n",
        "    self.score = score"
      ],
      "metadata": {
        "id": "S_zq0bFGvMFI"
      },
      "execution_count": 100,
      "outputs": []
    },
    {
      "cell_type": "code",
      "source": [
        "aa = StudentGrade('John', 'Doe', 75)\n",
        "bb = StudentGrade('Jane', 'Doe', 95)\n",
        "print(aa.first, aa.last)\n",
        "print(aa.score, aa.grade())\n",
        "print(bb.score, bb.grade())\n",
        "print(bb.capital_first())"
      ],
      "metadata": {
        "colab": {
          "base_uri": "https://localhost:8080/"
        },
        "id": "wxJRzDwrvV3v",
        "outputId": "009e6e67-62c1-44cd-d814-7d8470d93a1a"
      },
      "execution_count": 101,
      "outputs": [
        {
          "output_type": "stream",
          "name": "stdout",
          "text": [
            "John Doe\n",
            "75 B\n",
            "95 A\n",
            "JANE\n"
          ]
        }
      ]
    },
    {
      "cell_type": "markdown",
      "source": [
        "# 5 장"
      ],
      "metadata": {
        "id": "roFGhJmivgcG"
      }
    },
    {
      "cell_type": "code",
      "source": [],
      "metadata": {
        "id": "Id_q0vpSvjW_"
      },
      "execution_count": null,
      "outputs": []
    }
  ]
}
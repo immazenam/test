{
  "nbformat": 4,
  "nbformat_minor": 0,
  "metadata": {
    "colab": {
      "provenance": [],
      "toc_visible": true,
      "authorship_tag": "ABX9TyMXe7IMtlcpSSVSkx0QFX6z",
      "include_colab_link": true
    },
    "kernelspec": {
      "name": "python3",
      "display_name": "Python 3"
    },
    "language_info": {
      "name": "python"
    }
  },
  "cells": [
    {
      "cell_type": "markdown",
      "metadata": {
        "id": "view-in-github",
        "colab_type": "text"
      },
      "source": [
        "<a href=\"https://colab.research.google.com/github/immazenam/test/blob/master/R%EA%B3%BC_%ED%8C%8C%EC%9D%B4%EC%8D%AC.ipynb\" target=\"_parent\"><img src=\"https://colab.research.google.com/assets/colab-badge.svg\" alt=\"Open In Colab\"/></a>"
      ]
    },
    {
      "cell_type": "code",
      "source": [
        "2+3/2"
      ],
      "metadata": {
        "colab": {
          "base_uri": "https://localhost:8080/"
        },
        "id": "Ux84KGJz8w1h",
        "outputId": "e6846292-4f2c-4e7e-a674-df79d05187ec"
      },
      "execution_count": 1,
      "outputs": [
        {
          "output_type": "execute_result",
          "data": {
            "text/plain": [
              "3.5"
            ]
          },
          "metadata": {},
          "execution_count": 1
        }
      ]
    },
    {
      "cell_type": "code",
      "source": [
        "2**10"
      ],
      "metadata": {
        "colab": {
          "base_uri": "https://localhost:8080/"
        },
        "id": "uwAy5-Ej9I2E",
        "outputId": "bdca9b49-0ef8-4fdd-906c-ed16595b7763"
      },
      "execution_count": 2,
      "outputs": [
        {
          "output_type": "execute_result",
          "data": {
            "text/plain": [
              "1024"
            ]
          },
          "metadata": {},
          "execution_count": 2
        }
      ]
    },
    {
      "cell_type": "code",
      "source": [
        "a=10\n",
        "a"
      ],
      "metadata": {
        "colab": {
          "base_uri": "https://localhost:8080/"
        },
        "id": "gHgdeRhs9LFx",
        "outputId": "51ff99b6-313f-4317-dae9-a96d4df58467"
      },
      "execution_count": 3,
      "outputs": [
        {
          "output_type": "execute_result",
          "data": {
            "text/plain": [
              "10"
            ]
          },
          "metadata": {},
          "execution_count": 3
        }
      ]
    },
    {
      "cell_type": "code",
      "source": [
        "print(a)"
      ],
      "metadata": {
        "colab": {
          "base_uri": "https://localhost:8080/"
        },
        "id": "CESJ9PVN9PUZ",
        "outputId": "4facbd70-95b1-4aa5-ff33-8412412d73ca"
      },
      "execution_count": 4,
      "outputs": [
        {
          "output_type": "stream",
          "name": "stdout",
          "text": [
            "10\n"
          ]
        }
      ]
    },
    {
      "cell_type": "code",
      "source": [
        "a*2+3"
      ],
      "metadata": {
        "colab": {
          "base_uri": "https://localhost:8080/"
        },
        "id": "wh79SC-r9Q7_",
        "outputId": "118dc79e-0c4d-462d-cd41-97080dd1b3a0"
      },
      "execution_count": 5,
      "outputs": [
        {
          "output_type": "execute_result",
          "data": {
            "text/plain": [
              "23"
            ]
          },
          "metadata": {},
          "execution_count": 5
        }
      ]
    },
    {
      "cell_type": "code",
      "source": [
        "a=100\n",
        "print(type(a))\n",
        "b=100.1\n",
        "print(type(b))"
      ],
      "metadata": {
        "colab": {
          "base_uri": "https://localhost:8080/"
        },
        "id": "e6boyoDV2UA1",
        "outputId": "9f074d72-f112-413c-8a72-c50bcb6cf00d"
      },
      "execution_count": 6,
      "outputs": [
        {
          "output_type": "stream",
          "name": "stdout",
          "text": [
            "<class 'int'>\n",
            "<class 'float'>\n"
          ]
        }
      ]
    },
    {
      "cell_type": "code",
      "source": [
        "bool(23.7)"
      ],
      "metadata": {
        "colab": {
          "base_uri": "https://localhost:8080/"
        },
        "id": "YMhsgEZc1zuE",
        "outputId": "b84a620b-33e1-4dcd-b496-786185a00b44"
      },
      "execution_count": 96,
      "outputs": [
        {
          "output_type": "execute_result",
          "data": {
            "text/plain": [
              "True"
            ]
          },
          "metadata": {},
          "execution_count": 96
        }
      ]
    },
    {
      "cell_type": "code",
      "source": [
        "bool(0)"
      ],
      "metadata": {
        "colab": {
          "base_uri": "https://localhost:8080/"
        },
        "id": "tUmmMC4A2nLQ",
        "outputId": "e463c42d-fc69-4ed0-b0ad-2ca62dbaf0ae"
      },
      "execution_count": 8,
      "outputs": [
        {
          "output_type": "execute_result",
          "data": {
            "text/plain": [
              "False"
            ]
          },
          "metadata": {},
          "execution_count": 8
        }
      ]
    },
    {
      "cell_type": "code",
      "source": [
        "c = 'my string'\n",
        "d = str(a)+\" \"+c\n",
        "print(d)\n",
        "print(int(b))"
      ],
      "metadata": {
        "colab": {
          "base_uri": "https://localhost:8080/"
        },
        "id": "BrqMMs7W20SL",
        "outputId": "479ebc07-8f1c-405b-f33c-99f0f2ec8abf"
      },
      "execution_count": 9,
      "outputs": [
        {
          "output_type": "stream",
          "name": "stdout",
          "text": [
            "100 my string\n",
            "100\n"
          ]
        }
      ]
    },
    {
      "cell_type": "code",
      "source": [
        "bool('')"
      ],
      "metadata": {
        "colab": {
          "base_uri": "https://localhost:8080/"
        },
        "id": "c9xnCb0y2yoa",
        "outputId": "eba4c77f-e419-4dea-d0cc-5f998853b798"
      },
      "execution_count": 10,
      "outputs": [
        {
          "output_type": "execute_result",
          "data": {
            "text/plain": [
              "False"
            ]
          },
          "metadata": {},
          "execution_count": 10
        }
      ]
    },
    {
      "cell_type": "code",
      "source": [
        "import numpy as np\n",
        "a = np.arange(15)\n",
        "print(a)\n",
        "m = np.mean(a)\n",
        "print(m)"
      ],
      "metadata": {
        "colab": {
          "base_uri": "https://localhost:8080/"
        },
        "id": "mQexdi1328mh",
        "outputId": "a7ff3ebe-6d14-41aa-ceab-2939798c670c"
      },
      "execution_count": 11,
      "outputs": [
        {
          "output_type": "stream",
          "name": "stdout",
          "text": [
            "[ 0  1  2  3  4  5  6  7  8  9 10 11 12 13 14]\n",
            "7.0\n"
          ]
        }
      ]
    },
    {
      "cell_type": "code",
      "source": [
        "height = np.array([45, 75, 60, 51, np.nan])\n",
        "print(np.mean(height))\n",
        "print(np.nanmean(height))"
      ],
      "metadata": {
        "colab": {
          "base_uri": "https://localhost:8080/"
        },
        "id": "4l7SLFac3jMg",
        "outputId": "8f4e9382-f70d-4e8f-815b-cf303da5831a"
      },
      "execution_count": 12,
      "outputs": [
        {
          "output_type": "stream",
          "name": "stdout",
          "text": [
            "nan\n",
            "57.75\n"
          ]
        }
      ]
    },
    {
      "cell_type": "code",
      "source": [
        "x = np.array([1, -1, 0, np.infty, -np.inf])\n",
        "print(x/0)\n",
        "print(x/np.Infinity)"
      ],
      "metadata": {
        "colab": {
          "base_uri": "https://localhost:8080/"
        },
        "id": "dPF0Heiz4h_v",
        "outputId": "3a9d1310-0840-4194-cd03-f16a341d5141"
      },
      "execution_count": 13,
      "outputs": [
        {
          "output_type": "stream",
          "name": "stdout",
          "text": [
            "[ inf -inf  nan  inf -inf]\n",
            "[ 0. -0.  0. nan nan]\n"
          ]
        },
        {
          "output_type": "stream",
          "name": "stderr",
          "text": [
            "<ipython-input-13-11678b3c65f9>:2: RuntimeWarning: divide by zero encountered in divide\n",
            "  print(x/0)\n",
            "<ipython-input-13-11678b3c65f9>:2: RuntimeWarning: invalid value encountered in divide\n",
            "  print(x/0)\n",
            "<ipython-input-13-11678b3c65f9>:3: RuntimeWarning: invalid value encountered in divide\n",
            "  print(x/np.Infinity)\n"
          ]
        }
      ]
    },
    {
      "cell_type": "code",
      "source": [
        "import datetime as dt\n",
        "now = dt.datetime.now()\n",
        "print(now.year)"
      ],
      "metadata": {
        "colab": {
          "base_uri": "https://localhost:8080/"
        },
        "id": "-OxyqssX42Ll",
        "outputId": "c23e1460-82b0-4778-f14c-416f6b9cb292"
      },
      "execution_count": 14,
      "outputs": [
        {
          "output_type": "stream",
          "name": "stdout",
          "text": [
            "2024\n"
          ]
        }
      ]
    },
    {
      "cell_type": "code",
      "source": [
        "print(now.strftime(\"%Y-%m-%d: %A\"))"
      ],
      "metadata": {
        "colab": {
          "base_uri": "https://localhost:8080/"
        },
        "id": "lWao6EFk8C7-",
        "outputId": "a4074459-22c4-487d-b130-db78daeb3beb"
      },
      "execution_count": 15,
      "outputs": [
        {
          "output_type": "stream",
          "name": "stdout",
          "text": [
            "2024-10-05: Saturday\n"
          ]
        }
      ]
    },
    {
      "cell_type": "code",
      "source": [
        "dob1 = dt.datetime(2000, 5, 17)\n",
        "age = now.year - dob1.year\n",
        "print(age)"
      ],
      "metadata": {
        "colab": {
          "base_uri": "https://localhost:8080/"
        },
        "id": "R2ksh4g58QBu",
        "outputId": "59d2cc9a-ebf5-42d8-f52e-725f35ba816e"
      },
      "execution_count": 16,
      "outputs": [
        {
          "output_type": "stream",
          "name": "stdout",
          "text": [
            "24\n"
          ]
        }
      ]
    },
    {
      "cell_type": "code",
      "source": [
        "xv = np.array([1, 2, 3, 4, 5, 6, 7, 8, 9, 10])\n",
        "xv = np.arange(1,10)\n",
        "xv[4]"
      ],
      "metadata": {
        "id": "fi-dvh7R8g82",
        "colab": {
          "base_uri": "https://localhost:8080/"
        },
        "outputId": "879dcf2b-dcc9-4570-bf69-38312a1e05c4"
      },
      "execution_count": 17,
      "outputs": [
        {
          "output_type": "execute_result",
          "data": {
            "text/plain": [
              "5"
            ]
          },
          "metadata": {},
          "execution_count": 17
        }
      ]
    },
    {
      "cell_type": "code",
      "source": [
        "xv[1:4]"
      ],
      "metadata": {
        "colab": {
          "base_uri": "https://localhost:8080/"
        },
        "id": "ouoBsXfrpbQM",
        "outputId": "a0acc7c7-3d5a-4f4e-c269-59d9ed937e57"
      },
      "execution_count": 18,
      "outputs": [
        {
          "output_type": "execute_result",
          "data": {
            "text/plain": [
              "array([2, 3, 4])"
            ]
          },
          "metadata": {},
          "execution_count": 18
        }
      ]
    },
    {
      "cell_type": "code",
      "source": [
        "len(xv)"
      ],
      "metadata": {
        "colab": {
          "base_uri": "https://localhost:8080/"
        },
        "id": "yvgg0I2npeD2",
        "outputId": "c3f4b142-d6cb-42e8-f30a-6a0114184274"
      },
      "execution_count": 19,
      "outputs": [
        {
          "output_type": "execute_result",
          "data": {
            "text/plain": [
              "9"
            ]
          },
          "metadata": {},
          "execution_count": 19
        }
      ]
    },
    {
      "cell_type": "code",
      "source": [
        "xv.size"
      ],
      "metadata": {
        "colab": {
          "base_uri": "https://localhost:8080/"
        },
        "id": "KiKbsy6api0L",
        "outputId": "cffb5952-8647-44cc-a516-9321a8baf594"
      },
      "execution_count": 20,
      "outputs": [
        {
          "output_type": "execute_result",
          "data": {
            "text/plain": [
              "9"
            ]
          },
          "metadata": {},
          "execution_count": 20
        }
      ]
    },
    {
      "cell_type": "code",
      "source": [
        "xm=np.array([[1,2,3], [4,5,6], [7,8,9]])\n",
        "xm"
      ],
      "metadata": {
        "colab": {
          "base_uri": "https://localhost:8080/"
        },
        "id": "V-JI4GHsply3",
        "outputId": "da32a3b1-872b-41e1-f57b-cbe92bdf27af"
      },
      "execution_count": 21,
      "outputs": [
        {
          "output_type": "execute_result",
          "data": {
            "text/plain": [
              "array([[1, 2, 3],\n",
              "       [4, 5, 6],\n",
              "       [7, 8, 9]])"
            ]
          },
          "metadata": {},
          "execution_count": 21
        }
      ]
    },
    {
      "cell_type": "code",
      "source": [
        "xm = np.arange(1,10)\n",
        "xm = xm.reshape(3,3)\n",
        "xm"
      ],
      "metadata": {
        "colab": {
          "base_uri": "https://localhost:8080/"
        },
        "id": "BElEfeVWp6L2",
        "outputId": "36f42020-2521-4848-d6ad-a28573d6446a"
      },
      "execution_count": 22,
      "outputs": [
        {
          "output_type": "execute_result",
          "data": {
            "text/plain": [
              "array([[1, 2, 3],\n",
              "       [4, 5, 6],\n",
              "       [7, 8, 9]])"
            ]
          },
          "metadata": {},
          "execution_count": 22
        }
      ]
    },
    {
      "cell_type": "code",
      "source": [
        "xm = np.array(range(1,10))\n",
        "xm = xm.reshape(3,3)\n",
        "xm.shape"
      ],
      "metadata": {
        "colab": {
          "base_uri": "https://localhost:8080/"
        },
        "id": "u7zEMhDzqIz_",
        "outputId": "7ebd04eb-74be-48c5-80ef-3554e0e63d8b"
      },
      "execution_count": 23,
      "outputs": [
        {
          "output_type": "execute_result",
          "data": {
            "text/plain": [
              "(3, 3)"
            ]
          },
          "metadata": {},
          "execution_count": 23
        }
      ]
    },
    {
      "cell_type": "code",
      "source": [
        "xm[1,2]"
      ],
      "metadata": {
        "colab": {
          "base_uri": "https://localhost:8080/"
        },
        "id": "L-sNFcLPqiYQ",
        "outputId": "5110896d-cdc7-4a83-f33b-cf725e4e9cfa"
      },
      "execution_count": 97,
      "outputs": [
        {
          "output_type": "execute_result",
          "data": {
            "text/plain": [
              "6"
            ]
          },
          "metadata": {},
          "execution_count": 97
        }
      ]
    },
    {
      "cell_type": "code",
      "source": [
        "xm[:, 0]"
      ],
      "metadata": {
        "colab": {
          "base_uri": "https://localhost:8080/"
        },
        "id": "nEGHjSVuqmYv",
        "outputId": "c4924a0d-258d-45e6-a648-76695d830895"
      },
      "execution_count": 25,
      "outputs": [
        {
          "output_type": "execute_result",
          "data": {
            "text/plain": [
              "array([1, 4, 7])"
            ]
          },
          "metadata": {},
          "execution_count": 25
        }
      ]
    },
    {
      "cell_type": "code",
      "source": [
        "xm[0:2, :]"
      ],
      "metadata": {
        "colab": {
          "base_uri": "https://localhost:8080/"
        },
        "id": "Xd2p8GdkqtzW",
        "outputId": "e72b01aa-dfd3-4f41-a105-1fc32a9a502a"
      },
      "execution_count": 26,
      "outputs": [
        {
          "output_type": "execute_result",
          "data": {
            "text/plain": [
              "array([[1, 2, 3],\n",
              "       [4, 5, 6]])"
            ]
          },
          "metadata": {},
          "execution_count": 26
        }
      ]
    },
    {
      "cell_type": "code",
      "source": [
        "xv[3] = 11\n",
        "xv"
      ],
      "metadata": {
        "colab": {
          "base_uri": "https://localhost:8080/"
        },
        "id": "Ya4viuD5rFfx",
        "outputId": "08706448-c52b-4315-9189-cc21f0a5be2f"
      },
      "execution_count": 27,
      "outputs": [
        {
          "output_type": "execute_result",
          "data": {
            "text/plain": [
              "array([ 1,  2,  3, 11,  5,  6,  7,  8,  9])"
            ]
          },
          "metadata": {},
          "execution_count": 27
        }
      ]
    },
    {
      "cell_type": "code",
      "source": [
        "xm[0,2] = 11\n",
        "xm"
      ],
      "metadata": {
        "colab": {
          "base_uri": "https://localhost:8080/"
        },
        "id": "m1Jx1ptArM8b",
        "outputId": "e0c2315d-afa5-45b6-fb00-662f06610071"
      },
      "execution_count": 28,
      "outputs": [
        {
          "output_type": "execute_result",
          "data": {
            "text/plain": [
              "array([[ 1,  2, 11],\n",
              "       [ 4,  5,  6],\n",
              "       [ 7,  8,  9]])"
            ]
          },
          "metadata": {},
          "execution_count": 28
        }
      ]
    },
    {
      "cell_type": "code",
      "source": [
        "a = [2,3,'c']\n",
        "x= [1,2,'a', a]\n",
        "print(x)"
      ],
      "metadata": {
        "colab": {
          "base_uri": "https://localhost:8080/"
        },
        "id": "VgirAzvuu4KC",
        "outputId": "c8be8935-9618-4ec8-80e6-4429c9945ab2"
      },
      "execution_count": 29,
      "outputs": [
        {
          "output_type": "stream",
          "name": "stdout",
          "text": [
            "[1, 2, 'a', [2, 3, 'c']]\n"
          ]
        }
      ]
    },
    {
      "cell_type": "code",
      "source": [
        "x[3]"
      ],
      "metadata": {
        "id": "D8-9Lvj3vAAk",
        "colab": {
          "base_uri": "https://localhost:8080/"
        },
        "outputId": "dc5e0571-a387-4c44-9c28-15c9cd5c30cf"
      },
      "execution_count": 30,
      "outputs": [
        {
          "output_type": "execute_result",
          "data": {
            "text/plain": [
              "[2, 3, 'c']"
            ]
          },
          "metadata": {},
          "execution_count": 30
        }
      ]
    },
    {
      "cell_type": "code",
      "source": [
        "x2 = [[1,2,3], [4,5,6], [7,8,9]]\n",
        "x2[0][2]"
      ],
      "metadata": {
        "colab": {
          "base_uri": "https://localhost:8080/"
        },
        "id": "YV8eTbJUvZrV",
        "outputId": "3e8885c4-9037-49ec-f3ca-6c24095e455a"
      },
      "execution_count": 31,
      "outputs": [
        {
          "output_type": "execute_result",
          "data": {
            "text/plain": [
              "3"
            ]
          },
          "metadata": {},
          "execution_count": 31
        }
      ]
    },
    {
      "cell_type": "code",
      "source": [
        "x2[2]"
      ],
      "metadata": {
        "colab": {
          "base_uri": "https://localhost:8080/"
        },
        "id": "6hnpJ7pKvlOY",
        "outputId": "9856b435-235f-407b-b548-f0a815e22581"
      },
      "execution_count": 32,
      "outputs": [
        {
          "output_type": "execute_result",
          "data": {
            "text/plain": [
              "[7, 8, 9]"
            ]
          },
          "metadata": {},
          "execution_count": 32
        }
      ]
    },
    {
      "cell_type": "code",
      "source": [
        "[row[2] for row in x2]"
      ],
      "metadata": {
        "colab": {
          "base_uri": "https://localhost:8080/"
        },
        "id": "xZTLytgfvovA",
        "outputId": "9b6c8830-5520-4c64-ca74-fd1440a3d454"
      },
      "execution_count": 33,
      "outputs": [
        {
          "output_type": "execute_result",
          "data": {
            "text/plain": [
              "[3, 6, 9]"
            ]
          },
          "metadata": {},
          "execution_count": 33
        }
      ]
    },
    {
      "cell_type": "code",
      "source": [
        "tpl = (1,2,3)\n",
        "type(tpl)"
      ],
      "metadata": {
        "colab": {
          "base_uri": "https://localhost:8080/"
        },
        "id": "9m1vlIU8v5IU",
        "outputId": "61c5a488-a37c-4d5c-9dff-bb7b36138a8d"
      },
      "execution_count": 34,
      "outputs": [
        {
          "output_type": "execute_result",
          "data": {
            "text/plain": [
              "tuple"
            ]
          },
          "metadata": {},
          "execution_count": 34
        }
      ]
    },
    {
      "cell_type": "code",
      "source": [
        "tpl[2]"
      ],
      "metadata": {
        "colab": {
          "base_uri": "https://localhost:8080/"
        },
        "id": "gkUTHTjGwGIB",
        "outputId": "1fa36973-d7be-432e-d8ba-b2ad90326e7f"
      },
      "execution_count": 35,
      "outputs": [
        {
          "output_type": "execute_result",
          "data": {
            "text/plain": [
              "3"
            ]
          },
          "metadata": {},
          "execution_count": 35
        }
      ]
    },
    {
      "cell_type": "code",
      "source": [
        "country_code = {'korea':82, 'us':1, 'china':86}\n",
        "print(len(country_code))"
      ],
      "metadata": {
        "colab": {
          "base_uri": "https://localhost:8080/"
        },
        "id": "EUyUESX5wLXk",
        "outputId": "08ce3f53-a2c4-45c5-ad3b-6af93e1cdcb1"
      },
      "execution_count": 36,
      "outputs": [
        {
          "output_type": "stream",
          "name": "stdout",
          "text": [
            "3\n"
          ]
        }
      ]
    },
    {
      "cell_type": "code",
      "source": [
        "print(country_code['korea'])"
      ],
      "metadata": {
        "colab": {
          "base_uri": "https://localhost:8080/"
        },
        "id": "F2fsaWGSwmaK",
        "outputId": "8226a0a0-95e2-41d7-dd45-4c8d1d7aa9f8"
      },
      "execution_count": 37,
      "outputs": [
        {
          "output_type": "stream",
          "name": "stdout",
          "text": [
            "82\n"
          ]
        }
      ]
    },
    {
      "cell_type": "code",
      "source": [
        "print(country_code.keys())"
      ],
      "metadata": {
        "colab": {
          "base_uri": "https://localhost:8080/"
        },
        "id": "qVrtcq-iws5m",
        "outputId": "4107de2e-1c1d-45d4-fd72-da6e2ceadb4e"
      },
      "execution_count": 38,
      "outputs": [
        {
          "output_type": "stream",
          "name": "stdout",
          "text": [
            "dict_keys(['korea', 'us', 'china'])\n"
          ]
        }
      ]
    },
    {
      "cell_type": "code",
      "source": [
        "print(country_code.values())"
      ],
      "metadata": {
        "colab": {
          "base_uri": "https://localhost:8080/"
        },
        "id": "mMFSqxFnwyKw",
        "outputId": "f9cfa31d-79c9-4ac2-f696-7ac7b7e7826b"
      },
      "execution_count": 39,
      "outputs": [
        {
          "output_type": "stream",
          "name": "stdout",
          "text": [
            "dict_values([82, 1, 86])\n"
          ]
        }
      ]
    },
    {
      "cell_type": "code",
      "source": [
        "print(country_code.items())"
      ],
      "metadata": {
        "colab": {
          "base_uri": "https://localhost:8080/"
        },
        "id": "t2BwQUZ8w5jN",
        "outputId": "a123d32c-7078-4fd5-cd36-e1d21c401b96"
      },
      "execution_count": 40,
      "outputs": [
        {
          "output_type": "stream",
          "name": "stdout",
          "text": [
            "dict_items([('korea', 82), ('us', 1), ('china', 86)])\n"
          ]
        }
      ]
    },
    {
      "cell_type": "code",
      "source": [
        "xm2 = xm\n",
        "xm2 = xm.copy()\n",
        "xm[0][0] = 10"
      ],
      "metadata": {
        "id": "LUAIbWjCw_Ho"
      },
      "execution_count": 41,
      "outputs": []
    },
    {
      "cell_type": "code",
      "source": [
        "from copy import deepcopy\n",
        "ym= [[1,2,3], [4,5,6], [7,8,9]]\n",
        "ym2 = deepcopy(ym)\n",
        "ym[0][0] = 10\n",
        "print(ym2)"
      ],
      "metadata": {
        "colab": {
          "base_uri": "https://localhost:8080/"
        },
        "id": "aq-BrgbBxYdg",
        "outputId": "37388be3-a554-4d62-e1c0-e0565ea26814"
      },
      "execution_count": 42,
      "outputs": [
        {
          "output_type": "stream",
          "name": "stdout",
          "text": [
            "[[1, 2, 3], [4, 5, 6], [7, 8, 9]]\n"
          ]
        }
      ]
    },
    {
      "cell_type": "code",
      "source": [
        "import pandas as pd\n",
        "import numpy as np\n",
        "d={'name':['Kim', 'Lee', 'Park'], 'height': [170, 180, 175]}\n",
        "df1 = pd. DataFrame(data=d)\n",
        "print(df1)"
      ],
      "metadata": {
        "colab": {
          "base_uri": "https://localhost:8080/"
        },
        "id": "m0grllOCdG7R",
        "outputId": "67601584-310e-449c-d46a-d549d5321c7a"
      },
      "execution_count": 43,
      "outputs": [
        {
          "output_type": "stream",
          "name": "stdout",
          "text": [
            "   name  height\n",
            "0   Kim     170\n",
            "1   Lee     180\n",
            "2  Park     175\n"
          ]
        }
      ]
    },
    {
      "cell_type": "code",
      "source": [
        "df2 = pd.DataFrame([['Kim', 170], ['Lee', 180], ['Pakr', 175]], columns=['name', 'height'])\n",
        "print(df2)"
      ],
      "metadata": {
        "colab": {
          "base_uri": "https://localhost:8080/"
        },
        "id": "s7uGQ_bTePg3",
        "outputId": "9c2e7685-13d6-4eb2-d80e-8f7149df243b"
      },
      "execution_count": 44,
      "outputs": [
        {
          "output_type": "stream",
          "name": "stdout",
          "text": [
            "   name  height\n",
            "0   Kim     170\n",
            "1   Lee     180\n",
            "2  Pakr     175\n"
          ]
        }
      ]
    },
    {
      "cell_type": "code",
      "source": [
        "df3 = pd.DataFrame(np.array([[1,2,3], [4,5,6], [7,8,9]]),\n",
        "                   columns=['a', 'b', 'c'])\n",
        "print(df3)"
      ],
      "metadata": {
        "colab": {
          "base_uri": "https://localhost:8080/"
        },
        "id": "p9Cyw99Bek9m",
        "outputId": "bce0fbc4-8ef8-431f-83c8-7891c96f08b2"
      },
      "execution_count": 45,
      "outputs": [
        {
          "output_type": "stream",
          "name": "stdout",
          "text": [
            "   a  b  c\n",
            "0  1  2  3\n",
            "1  4  5  6\n",
            "2  7  8  9\n"
          ]
        }
      ]
    },
    {
      "cell_type": "code",
      "source": [
        "print(df3.describe())"
      ],
      "metadata": {
        "colab": {
          "base_uri": "https://localhost:8080/"
        },
        "id": "8p3pmiJIfHxY",
        "outputId": "dc0b47a9-978c-4c17-b88c-f4f45c965121"
      },
      "execution_count": 46,
      "outputs": [
        {
          "output_type": "stream",
          "name": "stdout",
          "text": [
            "         a    b    c\n",
            "count  3.0  3.0  3.0\n",
            "mean   4.0  5.0  6.0\n",
            "std    3.0  3.0  3.0\n",
            "min    1.0  2.0  3.0\n",
            "25%    2.5  3.5  4.5\n",
            "50%    4.0  5.0  6.0\n",
            "75%    5.5  6.5  7.5\n",
            "max    7.0  8.0  9.0\n"
          ]
        }
      ]
    },
    {
      "cell_type": "code",
      "source": [
        "x = df1['height']\n",
        "print(x)"
      ],
      "metadata": {
        "colab": {
          "base_uri": "https://localhost:8080/"
        },
        "id": "5afeZwc1fG20",
        "outputId": "908db37e-2ae2-4bfa-affa-9b7687e93107"
      },
      "execution_count": 47,
      "outputs": [
        {
          "output_type": "stream",
          "name": "stdout",
          "text": [
            "0    170\n",
            "1    180\n",
            "2    175\n",
            "Name: height, dtype: int64\n"
          ]
        }
      ]
    },
    {
      "cell_type": "code",
      "source": [
        "y = df1.iloc[0:2]\n",
        "print(y)"
      ],
      "metadata": {
        "colab": {
          "base_uri": "https://localhost:8080/"
        },
        "id": "vvDzLS_xf8In",
        "outputId": "db82dfc2-3783-4f0d-8a54-5ed4fc340156"
      },
      "execution_count": 48,
      "outputs": [
        {
          "output_type": "stream",
          "name": "stdout",
          "text": [
            "  name  height\n",
            "0  Kim     170\n",
            "1  Lee     180\n"
          ]
        }
      ]
    },
    {
      "cell_type": "code",
      "source": [
        "y = df1.iloc[:, 1]\n",
        "print(y)"
      ],
      "metadata": {
        "colab": {
          "base_uri": "https://localhost:8080/"
        },
        "id": "TKVHGuiAgQKT",
        "outputId": "c8622ad5-527b-499d-94cd-4660b1c523a9"
      },
      "execution_count": 49,
      "outputs": [
        {
          "output_type": "stream",
          "name": "stdout",
          "text": [
            "0    170\n",
            "1    180\n",
            "2    175\n",
            "Name: height, dtype: int64\n"
          ]
        }
      ]
    },
    {
      "cell_type": "code",
      "source": [
        "y = df1.iloc[:, -1]\n",
        "print(y)"
      ],
      "metadata": {
        "colab": {
          "base_uri": "https://localhost:8080/"
        },
        "id": "4X770Td9gbrM",
        "outputId": "970054f0-fa74-4521-f4d8-213f59e28112"
      },
      "execution_count": 50,
      "outputs": [
        {
          "output_type": "stream",
          "name": "stdout",
          "text": [
            "0    170\n",
            "1    180\n",
            "2    175\n",
            "Name: height, dtype: int64\n"
          ]
        }
      ]
    },
    {
      "cell_type": "code",
      "source": [
        "y = df1.iloc[[1,2], 0]\n",
        "print(y)"
      ],
      "metadata": {
        "colab": {
          "base_uri": "https://localhost:8080/"
        },
        "id": "3CvAuKKmgnTR",
        "outputId": "b553eebc-4414-4928-d447-44993fd07c7a"
      },
      "execution_count": 51,
      "outputs": [
        {
          "output_type": "stream",
          "name": "stdout",
          "text": [
            "1     Lee\n",
            "2    Park\n",
            "Name: name, dtype: object\n"
          ]
        }
      ]
    },
    {
      "cell_type": "code",
      "source": [
        "x1 = [1,2,3,4]; x2 = [5,6,7,8]\n",
        "y1 = np.array([1,2,3,4]); y2 = np.array([5,6,7,8])\n",
        "print(x1+[2])"
      ],
      "metadata": {
        "colab": {
          "base_uri": "https://localhost:8080/"
        },
        "id": "NUFU_d69gvCO",
        "outputId": "07f72ada-8466-4aa7-e10d-e88a0f04a749"
      },
      "execution_count": 52,
      "outputs": [
        {
          "output_type": "stream",
          "name": "stdout",
          "text": [
            "[1, 2, 3, 4, 2]\n"
          ]
        }
      ]
    },
    {
      "cell_type": "code",
      "source": [
        "print(y1+2)"
      ],
      "metadata": {
        "colab": {
          "base_uri": "https://localhost:8080/"
        },
        "id": "LqH6Q5jkkOWU",
        "outputId": "1fb0f665-895e-43d6-d29f-5dcd5eb08c8e"
      },
      "execution_count": 53,
      "outputs": [
        {
          "output_type": "stream",
          "name": "stdout",
          "text": [
            "[3 4 5 6]\n"
          ]
        }
      ]
    },
    {
      "cell_type": "code",
      "source": [
        "print(x1+x2)"
      ],
      "metadata": {
        "colab": {
          "base_uri": "https://localhost:8080/"
        },
        "id": "tH_fXrC0kQ-S",
        "outputId": "9a11bc80-604e-4616-8380-c90c6e04de1d"
      },
      "execution_count": 54,
      "outputs": [
        {
          "output_type": "stream",
          "name": "stdout",
          "text": [
            "[1, 2, 3, 4, 5, 6, 7, 8]\n"
          ]
        }
      ]
    },
    {
      "cell_type": "code",
      "source": [
        "print(y1+y2)"
      ],
      "metadata": {
        "colab": {
          "base_uri": "https://localhost:8080/"
        },
        "id": "XOkljOSSkX-m",
        "outputId": "a7f6ef85-0f7d-4a43-e83d-39ac503f5709"
      },
      "execution_count": 55,
      "outputs": [
        {
          "output_type": "stream",
          "name": "stdout",
          "text": [
            "[ 6  8 10 12]\n"
          ]
        }
      ]
    },
    {
      "cell_type": "code",
      "source": [
        "xrow = np.array([1,2,3])\n",
        "xcol = np.array([[1], [2], [3]])\n",
        "print(\"dimensions: \", xrow.shape, xcol.shape)"
      ],
      "metadata": {
        "colab": {
          "base_uri": "https://localhost:8080/"
        },
        "id": "30lSszC8kbB6",
        "outputId": "72f09889-b428-45cc-fae2-1b61cfd7cf7c"
      },
      "execution_count": 56,
      "outputs": [
        {
          "output_type": "stream",
          "name": "stdout",
          "text": [
            "dimensions:  (3,) (3, 1)\n"
          ]
        }
      ]
    },
    {
      "cell_type": "code",
      "source": [
        "print(\"xrow \\n\", xrow, \"\\n xcol: \\n\", xcol)"
      ],
      "metadata": {
        "colab": {
          "base_uri": "https://localhost:8080/"
        },
        "id": "MUlRpfaykyE5",
        "outputId": "4081cb59-f772-4c22-edff-2d6da0591908"
      },
      "execution_count": 57,
      "outputs": [
        {
          "output_type": "stream",
          "name": "stdout",
          "text": [
            "xrow \n",
            " [1 2 3] \n",
            " xcol: \n",
            " [[1]\n",
            " [2]\n",
            " [3]]\n"
          ]
        }
      ]
    },
    {
      "cell_type": "code",
      "source": [
        "aa = np.array(range(1, 11))\n",
        "bb = np.array(range(1, 6))\n",
        "cc = np.array([1,2,1,2,1])"
      ],
      "metadata": {
        "id": "LB8Ql52TmpET"
      },
      "execution_count": 58,
      "outputs": []
    },
    {
      "cell_type": "code",
      "source": [
        "bb +cc"
      ],
      "metadata": {
        "colab": {
          "base_uri": "https://localhost:8080/"
        },
        "id": "QbV-14DFm6Dx",
        "outputId": "a920c219-c7db-430a-8d4f-d6ea95891abc"
      },
      "execution_count": 59,
      "outputs": [
        {
          "output_type": "execute_result",
          "data": {
            "text/plain": [
              "array([2, 4, 4, 6, 6])"
            ]
          },
          "metadata": {},
          "execution_count": 59
        }
      ]
    },
    {
      "cell_type": "code",
      "source": [
        "aa *3"
      ],
      "metadata": {
        "colab": {
          "base_uri": "https://localhost:8080/"
        },
        "id": "6N5tt6pOnFnY",
        "outputId": "e40e8d6a-5201-4213-c8f5-3a3d5227b015"
      },
      "execution_count": 60,
      "outputs": [
        {
          "output_type": "execute_result",
          "data": {
            "text/plain": [
              "array([ 3,  6,  9, 12, 15, 18, 21, 24, 27, 30])"
            ]
          },
          "metadata": {},
          "execution_count": 60
        }
      ]
    },
    {
      "cell_type": "code",
      "source": [
        "bb ** 2"
      ],
      "metadata": {
        "colab": {
          "base_uri": "https://localhost:8080/"
        },
        "id": "7b9GZ7C3nSXV",
        "outputId": "809420ff-4fc1-45f3-ede5-f54e1fcc2617"
      },
      "execution_count": 61,
      "outputs": [
        {
          "output_type": "execute_result",
          "data": {
            "text/plain": [
              "array([ 1,  4,  9, 16, 25])"
            ]
          },
          "metadata": {},
          "execution_count": 61
        }
      ]
    },
    {
      "cell_type": "code",
      "source": [
        "np.power(bb, 2)"
      ],
      "metadata": {
        "colab": {
          "base_uri": "https://localhost:8080/"
        },
        "id": "McUBIQFnnW1Q",
        "outputId": "65313927-4508-4c92-c328-9c15db161819"
      },
      "execution_count": 62,
      "outputs": [
        {
          "output_type": "execute_result",
          "data": {
            "text/plain": [
              "array([ 1,  4,  9, 16, 25])"
            ]
          },
          "metadata": {},
          "execution_count": 62
        }
      ]
    },
    {
      "cell_type": "code",
      "source": [
        "a = np.array(range(1,11,2))\n",
        "print(a)"
      ],
      "metadata": {
        "colab": {
          "base_uri": "https://localhost:8080/"
        },
        "id": "z03sG3UnnaKy",
        "outputId": "1a3b5592-4f1c-4026-e15a-e8c1fb461877"
      },
      "execution_count": 63,
      "outputs": [
        {
          "output_type": "stream",
          "name": "stdout",
          "text": [
            "[1 3 5 7 9]\n"
          ]
        }
      ]
    },
    {
      "cell_type": "code",
      "source": [
        "a1 = np.delete(a, 2)\n",
        "print(a1)"
      ],
      "metadata": {
        "colab": {
          "base_uri": "https://localhost:8080/"
        },
        "id": "f6Lh-RLznvL1",
        "outputId": "c65c5827-8e45-411f-d794-897abde6d10c"
      },
      "execution_count": 64,
      "outputs": [
        {
          "output_type": "stream",
          "name": "stdout",
          "text": [
            "[1 3 7 9]\n"
          ]
        }
      ]
    },
    {
      "cell_type": "code",
      "source": [
        "idx = [0, 1, 3]\n",
        "a2 = np.delete(a, idx)\n",
        "print(a2)"
      ],
      "metadata": {
        "colab": {
          "base_uri": "https://localhost:8080/"
        },
        "id": "ujop34vNn0tB",
        "outputId": "4b3b8c01-283f-40f2-a504-1e254af36d1c"
      },
      "execution_count": 65,
      "outputs": [
        {
          "output_type": "stream",
          "name": "stdout",
          "text": [
            "[5 9]\n"
          ]
        }
      ]
    },
    {
      "cell_type": "code",
      "source": [
        "b1 = 11\n",
        "a3 = np.append(a, b1)\n",
        "b2 = 2\n",
        "a4 = np.insert(a, 1, b2)\n",
        "print(a3)\n",
        "print(a4)\n",
        "b3= [1,2,3]\n",
        "a5 = np.insert(a, 2, b3)\n",
        "print(a5)"
      ],
      "metadata": {
        "colab": {
          "base_uri": "https://localhost:8080/"
        },
        "id": "5wUqHUIJoCpB",
        "outputId": "44381684-9e81-49ba-81c5-470d8ba4b3ff"
      },
      "execution_count": 66,
      "outputs": [
        {
          "output_type": "stream",
          "name": "stdout",
          "text": [
            "[ 1  3  5  7  9 11]\n",
            "[1 2 3 5 7 9]\n",
            "[1 3 1 2 3 5 7 9]\n"
          ]
        }
      ]
    },
    {
      "cell_type": "code",
      "source": [
        "mx1 = np.array(range(1,10)).reshape(3,3)\n",
        "mx2 = np.append(mx1, np.array([10, 20, 30]).reshape(1,3), axis=0)\n",
        "mx3 = np.append(mx1, np.array([10, 20, 30]).reshape(3,1), axis=1)\n",
        "print(mx1)\n",
        "print(mx2)\n",
        "print(mx3)"
      ],
      "metadata": {
        "colab": {
          "base_uri": "https://localhost:8080/"
        },
        "id": "fZdbY2fJoJUj",
        "outputId": "f1500af3-a83a-4db7-b900-8f4518d29e62"
      },
      "execution_count": 67,
      "outputs": [
        {
          "output_type": "stream",
          "name": "stdout",
          "text": [
            "[[1 2 3]\n",
            " [4 5 6]\n",
            " [7 8 9]]\n",
            "[[ 1  2  3]\n",
            " [ 4  5  6]\n",
            " [ 7  8  9]\n",
            " [10 20 30]]\n",
            "[[ 1  2  3 10]\n",
            " [ 4  5  6 20]\n",
            " [ 7  8  9 30]]\n"
          ]
        }
      ]
    },
    {
      "cell_type": "code",
      "source": [
        "mx4 = np.delete(mx1, 0, axis=0)\n",
        "mx5 = np.delete(mx1, [0,1], axis=1)\n",
        "print(mx4)\n",
        "print(mx5)"
      ],
      "metadata": {
        "colab": {
          "base_uri": "https://localhost:8080/"
        },
        "id": "NfVahozFpgTJ",
        "outputId": "ea76329f-d278-47c0-c93b-dd442975dc7e"
      },
      "execution_count": 68,
      "outputs": [
        {
          "output_type": "stream",
          "name": "stdout",
          "text": [
            "[[4 5 6]\n",
            " [7 8 9]]\n",
            "[[3]\n",
            " [6]\n",
            " [9]]\n"
          ]
        }
      ]
    },
    {
      "cell_type": "code",
      "source": [
        "mx6 = np.insert(mx1, 1, np.array([10, 20, 30]), axis=0)\n",
        "mx7 = np.insert(mx1, 1, np.array(range(10, 100, 10)).reshape(3,3), axis=1)\n",
        "print(mx6)\n",
        "print(mx7)"
      ],
      "metadata": {
        "colab": {
          "base_uri": "https://localhost:8080/"
        },
        "id": "dJzyPQBcpsBa",
        "outputId": "a66def2c-e354-47e9-91f7-e1dde848026f"
      },
      "execution_count": 69,
      "outputs": [
        {
          "output_type": "stream",
          "name": "stdout",
          "text": [
            "[[ 1  2  3]\n",
            " [10 20 30]\n",
            " [ 4  5  6]\n",
            " [ 7  8  9]]\n",
            "[[ 1 10 40 70  2  3]\n",
            " [ 4 20 50 80  5  6]\n",
            " [ 7 30 60 90  8  9]]\n"
          ]
        }
      ]
    },
    {
      "cell_type": "code",
      "source": [
        "mtx = np.array([[1,2,3], [4,5,6]])\n",
        "mtx"
      ],
      "metadata": {
        "colab": {
          "base_uri": "https://localhost:8080/"
        },
        "id": "_ydproD5qC0f",
        "outputId": "97aacfe1-fb15-48ee-bc92-6b2039497dab"
      },
      "execution_count": 70,
      "outputs": [
        {
          "output_type": "execute_result",
          "data": {
            "text/plain": [
              "array([[1, 2, 3],\n",
              "       [4, 5, 6]])"
            ]
          },
          "metadata": {},
          "execution_count": 70
        }
      ]
    },
    {
      "cell_type": "code",
      "source": [
        "mtx = np.array([1,2,3,4,5,6]).reshape(2,3)\n",
        "mtx"
      ],
      "metadata": {
        "colab": {
          "base_uri": "https://localhost:8080/"
        },
        "id": "jJeaKXS6qSro",
        "outputId": "331aac3f-94ab-43d2-c78d-64cfcfafedb8"
      },
      "execution_count": 71,
      "outputs": [
        {
          "output_type": "execute_result",
          "data": {
            "text/plain": [
              "array([[1, 2, 3],\n",
              "       [4, 5, 6]])"
            ]
          },
          "metadata": {},
          "execution_count": 71
        }
      ]
    },
    {
      "cell_type": "code",
      "source": [
        "mx1 = np.array(range(1,7)).reshape(2,3)\n",
        "mx2 = np.hstack((np.repeat(1,3).reshape(3,1), np.repeat(2,3).reshape(3,1)))\n",
        "print(mx1)\n",
        "print(mx2)\n",
        "mx3 = np.matmul(mx1, mx2)\n",
        "print(mx3)\n",
        "mx3.shape"
      ],
      "metadata": {
        "colab": {
          "base_uri": "https://localhost:8080/"
        },
        "id": "UeSFjv3oqWSp",
        "outputId": "26069483-b818-4e3e-b8c5-d02902928bb4"
      },
      "execution_count": 72,
      "outputs": [
        {
          "output_type": "stream",
          "name": "stdout",
          "text": [
            "[[1 2 3]\n",
            " [4 5 6]]\n",
            "[[1 2]\n",
            " [1 2]\n",
            " [1 2]]\n",
            "[[ 6 12]\n",
            " [15 30]]\n"
          ]
        },
        {
          "output_type": "execute_result",
          "data": {
            "text/plain": [
              "(2, 2)"
            ]
          },
          "metadata": {},
          "execution_count": 72
        }
      ]
    },
    {
      "cell_type": "code",
      "source": [
        "def if_test1 (x):\n",
        "    if (x % 2 ==  0):\n",
        "        print(x, \"는 짝수입니다\")\n",
        "    else:\n",
        "        if (x % 2 == 1):\n",
        "            print(x, \"는 홀수입니다\")\n",
        "        else:\n",
        "            print(x, \"는 자연수가 아닙니다\")\n",
        "if_test1(8)"
      ],
      "metadata": {
        "colab": {
          "base_uri": "https://localhost:8080/"
        },
        "id": "rj4BmszOwBdL",
        "outputId": "453f5478-c628-44c8-f23e-cc4a36fb8d86"
      },
      "execution_count": 77,
      "outputs": [
        {
          "output_type": "stream",
          "name": "stdout",
          "text": [
            "8 는 짝수입니다\n"
          ]
        }
      ]
    },
    {
      "cell_type": "code",
      "source": [
        "def if_test2 (x):\n",
        "    if(x % 2 == 0):\n",
        "        print(x, \"는 짝수입니다\")\n",
        "    elif(x % 2 == 1):\n",
        "        print(x, \"는 홀수입니다\")\n",
        "    else:\n",
        "        print(x, \"는 자연수가 아닙니다\")\n",
        "if_test2(7)"
      ],
      "metadata": {
        "colab": {
          "base_uri": "https://localhost:8080/"
        },
        "id": "4_ld88K8xoGF",
        "outputId": "ceef9a22-5b92-4c98-fc95-0cb8bb3c39b7"
      },
      "execution_count": 78,
      "outputs": [
        {
          "output_type": "stream",
          "name": "stdout",
          "text": [
            "7 는 홀수입니다\n"
          ]
        }
      ]
    },
    {
      "cell_type": "code",
      "source": [
        "mysum = 0\n",
        "for x in [1,2,3,4,5,6,7,8,9,10]:\n",
        "    mysum = mysum + x**2\n",
        "else:\n",
        "    print(mysum)"
      ],
      "metadata": {
        "colab": {
          "base_uri": "https://localhost:8080/"
        },
        "id": "BjmWunMo0YB9",
        "outputId": "4ec3ae4d-c419-49cd-fd94-79d162ecd434"
      },
      "execution_count": 98,
      "outputs": [
        {
          "output_type": "stream",
          "name": "stdout",
          "text": [
            "385\n"
          ]
        }
      ]
    },
    {
      "cell_type": "code",
      "source": [
        "x = 1\n",
        "sum1 = 0\n",
        "while (x <= 10):\n",
        "    sum1 = sum1 + x**2\n",
        "    x = x + 1\n",
        "#else: else가 있다면 print(sum1)은 들여써야함.\n",
        "print(sum1)"
      ],
      "metadata": {
        "colab": {
          "base_uri": "https://localhost:8080/"
        },
        "id": "mVD-DIn_00vM",
        "outputId": "38d7edfc-5597-417e-9704-12bd94ad46f0"
      },
      "execution_count": 83,
      "outputs": [
        {
          "output_type": "stream",
          "name": "stdout",
          "text": [
            "385\n"
          ]
        }
      ]
    },
    {
      "cell_type": "code",
      "source": [
        "x = range(1,6)\n",
        "for j in x:\n",
        "    if (j==3): continue\n",
        "    print(j, \" \")"
      ],
      "metadata": {
        "colab": {
          "base_uri": "https://localhost:8080/"
        },
        "id": "_VnO76EF2COR",
        "outputId": "7f4a1a5b-8bf0-4543-882e-4bd569841d37"
      },
      "execution_count": 87,
      "outputs": [
        {
          "output_type": "stream",
          "name": "stdout",
          "text": [
            "1  \n",
            "2  \n",
            "4  \n",
            "5  \n"
          ]
        }
      ]
    },
    {
      "cell_type": "code",
      "source": [
        "x = range(1,6)\n",
        "for j in x:\n",
        "    if (j==3): break\n",
        "    print(j, \" \")"
      ],
      "metadata": {
        "colab": {
          "base_uri": "https://localhost:8080/"
        },
        "id": "UlrSPANc4gdR",
        "outputId": "dfcd1799-56d6-4c3d-b279-c2fd57ae27bd"
      },
      "execution_count": 88,
      "outputs": [
        {
          "output_type": "stream",
          "name": "stdout",
          "text": [
            "1  \n",
            "2  \n"
          ]
        }
      ]
    },
    {
      "cell_type": "code",
      "source": [
        "def sum2(x, y):\n",
        "    mysum = x + y\n",
        "    return mysum\n",
        "sum2(4,7)"
      ],
      "metadata": {
        "colab": {
          "base_uri": "https://localhost:8080/"
        },
        "id": "B-oUWR3l5WvA",
        "outputId": "6d771c7f-3429-40a2-988d-198ac4d81df3"
      },
      "execution_count": 90,
      "outputs": [
        {
          "output_type": "execute_result",
          "data": {
            "text/plain": [
              "11"
            ]
          },
          "metadata": {},
          "execution_count": 90
        }
      ]
    },
    {
      "cell_type": "code",
      "source": [
        "def my_sums(a=0, b=10):\n",
        "    sum1 = 0; sum2 = 0\n",
        "    data = np.arange(a,b+1)\n",
        "    for i in data:\n",
        "        sum1 = sum1 + i\n",
        "        sum2 = sum2+ i**2\n",
        "    return sum1, sum2, len(data)\n",
        "my_sums()"
      ],
      "metadata": {
        "colab": {
          "base_uri": "https://localhost:8080/"
        },
        "id": "8dOzvvwN-KvT",
        "outputId": "44a9dd05-fcef-4d5b-a776-b2b65fbf5e5a"
      },
      "execution_count": 94,
      "outputs": [
        {
          "output_type": "execute_result",
          "data": {
            "text/plain": [
              "(55, 385, 11)"
            ]
          },
          "metadata": {},
          "execution_count": 94
        }
      ]
    },
    {
      "cell_type": "code",
      "source": [
        "a = my_sums(1,10)\n",
        "mm = a[0]/a[2]\n",
        "vv = (a[1] - a[2]*(mm**2))/(a[2] -1)\n",
        "print(mm) #평균\n",
        "print(vv) #분산"
      ],
      "metadata": {
        "colab": {
          "base_uri": "https://localhost:8080/"
        },
        "id": "3lcwTKbhDhkq",
        "outputId": "38ceeb04-f5c0-4123-c4fd-29680dfa6247"
      },
      "execution_count": 95,
      "outputs": [
        {
          "output_type": "stream",
          "name": "stdout",
          "text": [
            "5.5\n",
            "9.166666666666666\n"
          ]
        }
      ]
    },
    {
      "cell_type": "code",
      "source": [
        "class Student:\n",
        "    def __init__(self, first, last):\n",
        "        self.first = first\n",
        "        self.last = last\n",
        "\n",
        "    def capital_first(self):\n",
        "        return self.first.upper()\n",
        "aa = Student('John', 'Doe')\n",
        "bb = Student('Jane', 'Doe')\n",
        "print(aa.first, aa.last)\n",
        "print(bb.first, bb.last)\n",
        "print(aa.capital_first(), bb.capital_first())"
      ],
      "metadata": {
        "colab": {
          "base_uri": "https://localhost:8080/"
        },
        "id": "WOwvBVbaEgv8",
        "outputId": "cfaeb9d4-26ab-4719-c61a-29ef11c235c0"
      },
      "execution_count": 103,
      "outputs": [
        {
          "output_type": "stream",
          "name": "stdout",
          "text": [
            "John Doe\n",
            "Jane Doe\n",
            "JOHN JANE\n"
          ]
        }
      ]
    }
  ]
}